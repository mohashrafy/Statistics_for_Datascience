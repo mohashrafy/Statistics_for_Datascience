{
 "cells": [
  {
   "cell_type": "markdown",
   "id": "f62133fd-02ca-4e3b-ad5e-3df597af9d14",
   "metadata": {},
   "source": [
    "# Python Review for Data Science"
   ]
  },
  {
   "cell_type": "markdown",
   "id": "490495df-ef43-4ccc-a0ae-0b951a5ce0be",
   "metadata": {},
   "source": [
    "## Part 1\n",
    "### Python's documentation\n",
    "\n",
    "Any reference that does not begin with the Python documentation is insufficient.\n",
    "\n",
    "Python's authors, as well as the community that supports it, have created a fantastic set of tutorials, documentation, and references.\n",
    "When in doubt, here is frequently the first place to check if you get a frightening problem or want to learn more about a specific function.\n",
    "The documentation is available here: [Python Documentation](https://docs.python.org/3/). "
   ]
  },
  {
   "cell_type": "markdown",
   "id": "2c2dedb8-3d7d-41de-b30d-832d1358a13b",
   "metadata": {},
   "source": [
    "### References and Cheatsheets\n",
    "\n",
    "* [Cheatsheet for Numpy](https://www.datacamp.com/community/blog/python-numpy-cheat-sheet#gs.AK5ZBgE)\n",
    "* [Cheatsheet for Datawrangling](https://www.datacamp.com/community/blog/pandas-cheat-sheet-python#gs.HPFoRIc)\n",
    "* [Cheatsheet for Pandas](https://www.datacamp.com/community/blog/python-pandas-cheat-sheet#gs.oundfxM)\n",
    "* [Cheatsheet for SciPy](https://www.datacamp.com/community/blog/python-scipy-cheat-sheet#gs.JDSg3OI)\n",
    "* [Cheatsheet for Matplotlib](https://www.datacamp.com/community/blog/python-matplotlib-cheat-sheet#gs.uEKySpY)"
   ]
  },
  {
   "cell_type": "markdown",
   "id": "123041af-7aab-41dc-916a-33a8a82bf982",
   "metadata": {},
   "source": [
    "### Python Style Guides\n",
    "* [PEP 8 -- Style Guide for Python Code](https://www.python.org/dev/peps/pep-0008/#introduction)\n",
    "\n",
    "---\n"
   ]
  },
  {
   "cell_type": "markdown",
   "id": "c377f303-9fd4-42d3-ba88-a39df1dd1343",
   "metadata": {},
   "source": [
    "#### Consistent Indenting"
   ]
  },
  {
   "cell_type": "code",
   "execution_count": 1,
   "id": "29d306d4-edb8-44f9-bc83-1350a76ebeec",
   "metadata": {},
   "outputs": [
    {
     "name": "stdout",
     "output_type": "stream",
     "text": [
      "[1, 1, 2, 3, 5, 8, 13, 21, 34, 55, 89, 144]\n"
     ]
    }
   ],
   "source": [
    "# Proper indentation - four spaces is standard, but consistency is important. \n",
    "result = [1, 1]\n",
    "for i in range(10):\n",
    "    next_item = result[-1] + result[-2]\n",
    "    result.append(next_item)\n",
    "print(result)"
   ]
  },
  {
   "cell_type": "code",
   "execution_count": 2,
   "id": "bc0febf9-ec4d-4914-9106-3ddf1b8fc336",
   "metadata": {},
   "outputs": [
    {
     "ename": "IndentationError",
     "evalue": "unexpected indent (1798428277.py, line 3)",
     "output_type": "error",
     "traceback": [
      "\u001b[0;36m  File \u001b[0;32m\"/tmp/ipykernel_1400/1798428277.py\"\u001b[0;36m, line \u001b[0;32m3\u001b[0m\n\u001b[0;31m    for i in range(10):\u001b[0m\n\u001b[0m    ^\u001b[0m\n\u001b[0;31mIndentationError\u001b[0m\u001b[0;31m:\u001b[0m unexpected indent\n"
     ]
    }
   ],
   "source": [
    "# Bad indentation\n",
    "result = [1, 1]\n",
    " for i in range(10):\n",
    "  next_item = result[-1] + result[-2]\n",
    "    result.append(next_item)\n",
    " print(result)"
   ]
  },
  {
   "cell_type": "markdown",
   "id": "0253f9a6-d0db-43dd-807e-564b1ece87c5",
   "metadata": {},
   "source": [
    "#### Commenting"
   ]
  },
  {
   "cell_type": "markdown",
   "id": "bdd13292-8eac-4c23-b8be-160299128a92",
   "metadata": {},
   "source": [
    "* Bad Commenting"
   ]
  },
  {
   "cell_type": "code",
   "execution_count": 3,
   "id": "43748a4f-d3cd-4f85-a4f1-5a3a7f1e011c",
   "metadata": {},
   "outputs": [
    {
     "name": "stdout",
     "output_type": "stream",
     "text": [
      "0\n",
      "1\n",
      "4\n",
      "9\n",
      "16\n"
     ]
    }
   ],
   "source": [
    "# My Loop\n",
    "for i in range(5):\n",
    "    print(i*i)"
   ]
  },
  {
   "cell_type": "markdown",
   "id": "5ea7ad86-1ee1-45d9-831c-6a403472c5c3",
   "metadata": {},
   "source": [
    "* Better Commenting"
   ]
  },
  {
   "cell_type": "code",
   "execution_count": 5,
   "id": "d99c80fc-975c-4766-95be-5047814d13c8",
   "metadata": {},
   "outputs": [
    {
     "name": "stdout",
     "output_type": "stream",
     "text": [
      "25\n",
      "16\n",
      "9\n",
      "4\n",
      "1\n"
     ]
    }
   ],
   "source": [
    "# Loop from five to one\n",
    "for i in range(5, 0, -1):\n",
    "    print(i*i)"
   ]
  },
  {
   "cell_type": "markdown",
   "id": "a3b942c5-140e-4f1c-92a2-f5a9270442f1",
   "metadata": {},
   "source": [
    "* Preferred Commenting"
   ]
  },
  {
   "cell_type": "code",
   "execution_count": 6,
   "id": "565833cd-b72c-4a6e-8486-5bc23b5a1bd8",
   "metadata": {},
   "outputs": [
    {
     "name": "stdout",
     "output_type": "stream",
     "text": [
      "100\n",
      "121\n",
      "144\n"
     ]
    }
   ],
   "source": [
    "# Print the square of an integer between 10 and 12 \n",
    "for i in range(10, 13):\n",
    "    print(i*i)"
   ]
  },
  {
   "cell_type": "markdown",
   "id": "3e25a835-e473-48c3-8ced-8eb06c7fa23d",
   "metadata": {},
   "source": [
    "#### Length of a Line\n",
    "\n",
    "Try to avoid lines that are too lengthy.\n",
    "Lines should be no longer than 80 characters in length.\n",
    "While this is not a hard and fast rule, it is a recommended practice to adhere to for readability. "
   ]
  },
  {
   "cell_type": "code",
   "execution_count": 7,
   "id": "847489ad-9514-4e4d-8d80-78db4593ea28",
   "metadata": {},
   "outputs": [],
   "source": [
    "# This code is too long. \n",
    "my_items = [\"food\" ,\"spoon\", \"mp3 player\", \"tree\", \"ipod\", \"fake flowers\", \"zipper\", \"rug\" ,\"controller\", \"timetable\", \"bill of materials\", \"catalogue of issues\", \"checklist of issues\"]\n",
    "\n",
    "# This code has been wrapped to avoid being too long. \n",
    "my_items = [\"food\" ,\"spoon\", \"mp3 player\", \"tree\", \"ipod\", \"fake flowers\",\n",
    "            \"zipper\", \"rug\" ,\"controller\", \"timetable\", \"bill of materials\",\n",
    "            \"catalogue of issues\", \"checklist of issues\"]"
   ]
  },
  {
   "cell_type": "markdown",
   "id": "0b1bc0e7-d096-4332-ae24-0133346af3ad",
   "metadata": {},
   "source": [
    "#### Whitespace in Expressions and Statements\n",
    "Avoid extraneous whitespace in the following situations:\n",
    "* Immediately inside parentheses, brackets or braces\n",
    "* Between a trailing comma and a following close parenthesis\n",
    "* Immediately before a comma, semicolon, or colon\n",
    "* However, in a slice the colon acts like a binary operator, and should have equal amounts on either side (treating it as the operator with the lowest priority). In an extended slice, both colons must have the same amount of spacing applied. Exception: when a slice parameter is omitted, the space is omitted\n",
    "* Immediately before the open parenthesis that starts the argument list of a function call\n",
    "* Immediately before the open parenthesis that starts an indexing or slicing\n",
    "* More than one space around an assignment (or other) operator to align it with another\n",
    "* Don't use spaces around the = sign when used to indicate a keyword argument, or when used to indicate a default value for an unannotated function parameter:"
   ]
  },
  {
   "cell_type": "markdown",
   "id": "d67fbb99-9746-4f97-9b0e-b5869b0ad7cc",
   "metadata": {},
   "source": [
    "```Python\n",
    "# Correct:\n",
    "spam(ham[1], {eggs: 2})\n",
    "# Wrong:\n",
    "spam( ham[ 1 ], { eggs: 2 } )\n",
    "```\n",
    "---"
   ]
  },
  {
   "cell_type": "markdown",
   "id": "0163ebf2-0942-40b8-911d-423db84e3df2",
   "metadata": {},
   "source": [
    "```Python\n",
    "# Correct:\n",
    "foo = (0,)\n",
    "# Wrong:\n",
    "bar = (0, )\n",
    "```\n",
    "---"
   ]
  },
  {
   "cell_type": "markdown",
   "id": "23cb8a4b-6543-46cd-a91d-fdee5726baeb",
   "metadata": {},
   "source": [
    "```Python\n",
    "# Correct:\n",
    "if x == 4: print x, y; x, y = y, x\n",
    "# Wrong:\n",
    "if x == 4 : print x , y ; x , y = y , x\n",
    "\n",
    "```\n",
    "---"
   ]
  },
  {
   "cell_type": "markdown",
   "id": "dc951ba8-8055-4a4c-b5e6-d699f40c53e6",
   "metadata": {},
   "source": [
    "```Python\n",
    "# Correct:\n",
    "ham[1:9], ham[1:9:3], ham[:9:3], ham[1::3], ham[1:9:]\n",
    "ham[lower:upper], ham[lower:upper:], ham[lower::step]\n",
    "ham[lower+offset : upper+offset]\n",
    "ham[: upper_fn(x) : step_fn(x)], ham[:: step_fn(x)]\n",
    "ham[lower + offset : upper + offset]\n",
    "# Wrong:\n",
    "ham[lower + offset:upper + offset]\n",
    "ham[1: 9], ham[1 :9], ham[1:9 :3]\n",
    "ham[lower : : upper]\n",
    "ham[ : upper]\n",
    "\n",
    "```\n",
    "---"
   ]
  },
  {
   "cell_type": "markdown",
   "id": "735dbb9e-9690-4c2e-961e-be550b6d1236",
   "metadata": {},
   "source": [
    "```Python\n",
    "# Correct:\n",
    "spam(1)\n",
    "# Wrong:\n",
    "spam (1)\n",
    "```\n",
    "---"
   ]
  },
  {
   "cell_type": "markdown",
   "id": "e033591a-a33c-4e23-94c3-aa14732d588d",
   "metadata": {},
   "source": [
    "```Python\n",
    "# Correct:\n",
    "dct['key'] = lst[index]\n",
    "# Wrong:\n",
    "dct ['key'] = lst [index]\n",
    "\n",
    "```\n",
    "---"
   ]
  },
  {
   "cell_type": "markdown",
   "id": "7fb25f67-7ca2-4124-83ce-2e74aa0da53b",
   "metadata": {},
   "source": [
    "```Python\n",
    "# Correct:\n",
    "x = 1\n",
    "y = 2\n",
    "long_variable = 3\n",
    "# Wrong:\n",
    "x             = 1\n",
    "y             = 2\n",
    "long_variable = 3\n",
    "```\n",
    "---"
   ]
  },
  {
   "cell_type": "markdown",
   "id": "1465ba61-7315-4652-9b19-aee497702575",
   "metadata": {},
   "source": [
    "```Python\n",
    "# Correct:\n",
    "i = i + 1\n",
    "submitted += 1\n",
    "x = x*2 - 1\n",
    "hypot2 = x*x + y*y\n",
    "c = (a+b) * (a-b)\n",
    "# Wrong:\n",
    "i=i+1\n",
    "submitted +=1\n",
    "x = x * 2 - 1\n",
    "hypot2 = x * x + y * y\n",
    "c = (a + b) * (a - b)\n",
    "\n",
    "```\n",
    "---"
   ]
  },
  {
   "cell_type": "markdown",
   "id": "f359c7a8-5c5e-48c2-8296-9357b83374ee",
   "metadata": {},
   "source": [
    "```Python\n",
    "# Correct:\n",
    "def complex(real, imag=0.0):\n",
    "    return magic(r=real, i=imag)\n",
    "# Wrong:\n",
    "def complex(real, imag = 0.0):\n",
    "    return magic(r = real, i = imag)\n",
    "```\n",
    "---"
   ]
  },
  {
   "cell_type": "markdown",
   "id": "797489af-3e43-441a-8c88-2e6585ffecf6",
   "metadata": {},
   "source": [
    "## Part 2\n",
    "### Pandas"
   ]
  },
  {
   "cell_type": "code",
   "execution_count": 9,
   "id": "4d07df24-0bfb-4ef9-8ed0-16052ec7223b",
   "metadata": {},
   "outputs": [],
   "source": [
    "import pandas as pd"
   ]
  },
  {
   "cell_type": "code",
   "execution_count": 15,
   "id": "6eea8e86-b16c-459f-904d-6c05ce1d3ec3",
   "metadata": {},
   "outputs": [],
   "source": [
    "# https://www.kaggle.com/ramjasmaurya/best-cities-and-countries-for-startups-in-2021\n",
    "# Store the file path in a variable\n",
    "path = \"../data/best_cities_for_startups.csv\"\n",
    "# Read the .csv file and store it as a pandas Data Frame\n",
    "df = pd.read_csv(path)"
   ]
  },
  {
   "cell_type": "code",
   "execution_count": 16,
   "id": "8a869534-22c1-455f-9be5-dd775d92cfb1",
   "metadata": {},
   "outputs": [
    {
     "data": {
      "text/plain": [
       "pandas.core.frame.DataFrame"
      ]
     },
     "execution_count": 16,
     "metadata": {},
     "output_type": "execute_result"
    }
   ],
   "source": [
    "type(df)"
   ]
  },
  {
   "cell_type": "code",
   "execution_count": 17,
   "id": "6ab7f709-1ac4-4b15-8cfb-997fe5024f45",
   "metadata": {},
   "outputs": [
    {
     "data": {
      "text/html": [
       "<div>\n",
       "<style scoped>\n",
       "    .dataframe tbody tr th:only-of-type {\n",
       "        vertical-align: middle;\n",
       "    }\n",
       "\n",
       "    .dataframe tbody tr th {\n",
       "        vertical-align: top;\n",
       "    }\n",
       "\n",
       "    .dataframe thead th {\n",
       "        text-align: right;\n",
       "    }\n",
       "</style>\n",
       "<table border=\"1\" class=\"dataframe\">\n",
       "  <thead>\n",
       "    <tr style=\"text-align: right;\">\n",
       "      <th></th>\n",
       "      <th>position</th>\n",
       "      <th>change in position from 2020</th>\n",
       "      <th>city</th>\n",
       "      <th>country</th>\n",
       "      <th>total score</th>\n",
       "      <th>quatity score</th>\n",
       "      <th>quality score</th>\n",
       "      <th>business score</th>\n",
       "      <th>sign of change in position</th>\n",
       "    </tr>\n",
       "  </thead>\n",
       "  <tbody>\n",
       "    <tr>\n",
       "      <th>0</th>\n",
       "      <td>1</td>\n",
       "      <td>0</td>\n",
       "      <td>San Francisco Bay</td>\n",
       "      <td>United States</td>\n",
       "      <td>328.966</td>\n",
       "      <td>29.14</td>\n",
       "      <td>296.02</td>\n",
       "      <td>3.80</td>\n",
       "      <td>NaN</td>\n",
       "    </tr>\n",
       "    <tr>\n",
       "      <th>1</th>\n",
       "      <td>2</td>\n",
       "      <td>0</td>\n",
       "      <td>New York</td>\n",
       "      <td>United States</td>\n",
       "      <td>110.777</td>\n",
       "      <td>11.43</td>\n",
       "      <td>95.55</td>\n",
       "      <td>3.80</td>\n",
       "      <td>NaN</td>\n",
       "    </tr>\n",
       "    <tr>\n",
       "      <th>2</th>\n",
       "      <td>3</td>\n",
       "      <td>3</td>\n",
       "      <td>Beijing</td>\n",
       "      <td>China</td>\n",
       "      <td>66.049</td>\n",
       "      <td>5.01</td>\n",
       "      <td>58.61</td>\n",
       "      <td>2.43</td>\n",
       "      <td>+</td>\n",
       "    </tr>\n",
       "    <tr>\n",
       "      <th>3</th>\n",
       "      <td>4</td>\n",
       "      <td>1</td>\n",
       "      <td>Los Angeles Area</td>\n",
       "      <td>United States</td>\n",
       "      <td>58.441</td>\n",
       "      <td>11.23</td>\n",
       "      <td>43.41</td>\n",
       "      <td>3.80</td>\n",
       "      <td>+</td>\n",
       "    </tr>\n",
       "    <tr>\n",
       "      <th>4</th>\n",
       "      <td>5</td>\n",
       "      <td>2</td>\n",
       "      <td>London</td>\n",
       "      <td>United Kingdom</td>\n",
       "      <td>56.913</td>\n",
       "      <td>15.77</td>\n",
       "      <td>37.44</td>\n",
       "      <td>3.70</td>\n",
       "      <td>-</td>\n",
       "    </tr>\n",
       "  </tbody>\n",
       "</table>\n",
       "</div>"
      ],
      "text/plain": [
       "   position change in position from 2020               city          country  \\\n",
       "0         1                            0  San Francisco Bay    United States   \n",
       "1         2                            0           New York    United States   \n",
       "2         3                            3            Beijing            China   \n",
       "3         4                            1   Los Angeles Area    United States   \n",
       "4         5                            2             London   United Kingdom   \n",
       "\n",
       "   total score  quatity score  quality score  business score  \\\n",
       "0      328.966          29.14         296.02            3.80   \n",
       "1      110.777          11.43          95.55            3.80   \n",
       "2       66.049           5.01          58.61            2.43   \n",
       "3       58.441          11.23          43.41            3.80   \n",
       "4       56.913          15.77          37.44            3.70   \n",
       "\n",
       "  sign of change in position  \n",
       "0                        NaN  \n",
       "1                        NaN  \n",
       "2                          +  \n",
       "3                          +  \n",
       "4                          -  "
      ]
     },
     "execution_count": 17,
     "metadata": {},
     "output_type": "execute_result"
    }
   ],
   "source": [
    "df.head()"
   ]
  },
  {
   "cell_type": "code",
   "execution_count": 18,
   "id": "029ca040-ccf9-4c94-8b5e-9e98655f40ff",
   "metadata": {},
   "outputs": [
    {
     "data": {
      "text/html": [
       "<div>\n",
       "<style scoped>\n",
       "    .dataframe tbody tr th:only-of-type {\n",
       "        vertical-align: middle;\n",
       "    }\n",
       "\n",
       "    .dataframe tbody tr th {\n",
       "        vertical-align: top;\n",
       "    }\n",
       "\n",
       "    .dataframe thead th {\n",
       "        text-align: right;\n",
       "    }\n",
       "</style>\n",
       "<table border=\"1\" class=\"dataframe\">\n",
       "  <thead>\n",
       "    <tr style=\"text-align: right;\">\n",
       "      <th></th>\n",
       "      <th>position</th>\n",
       "      <th>change in position from 2020</th>\n",
       "      <th>city</th>\n",
       "      <th>country</th>\n",
       "      <th>total score</th>\n",
       "      <th>quatity score</th>\n",
       "      <th>quality score</th>\n",
       "      <th>business score</th>\n",
       "      <th>sign of change in position</th>\n",
       "    </tr>\n",
       "  </thead>\n",
       "  <tbody>\n",
       "    <tr>\n",
       "      <th>0</th>\n",
       "      <td>1</td>\n",
       "      <td>0</td>\n",
       "      <td>San Francisco Bay</td>\n",
       "      <td>United States</td>\n",
       "      <td>328.966</td>\n",
       "      <td>29.14</td>\n",
       "      <td>296.02</td>\n",
       "      <td>3.80</td>\n",
       "      <td>NaN</td>\n",
       "    </tr>\n",
       "    <tr>\n",
       "      <th>1</th>\n",
       "      <td>2</td>\n",
       "      <td>0</td>\n",
       "      <td>New York</td>\n",
       "      <td>United States</td>\n",
       "      <td>110.777</td>\n",
       "      <td>11.43</td>\n",
       "      <td>95.55</td>\n",
       "      <td>3.80</td>\n",
       "      <td>NaN</td>\n",
       "    </tr>\n",
       "    <tr>\n",
       "      <th>2</th>\n",
       "      <td>3</td>\n",
       "      <td>3</td>\n",
       "      <td>Beijing</td>\n",
       "      <td>China</td>\n",
       "      <td>66.049</td>\n",
       "      <td>5.01</td>\n",
       "      <td>58.61</td>\n",
       "      <td>2.43</td>\n",
       "      <td>+</td>\n",
       "    </tr>\n",
       "    <tr>\n",
       "      <th>3</th>\n",
       "      <td>4</td>\n",
       "      <td>1</td>\n",
       "      <td>Los Angeles Area</td>\n",
       "      <td>United States</td>\n",
       "      <td>58.441</td>\n",
       "      <td>11.23</td>\n",
       "      <td>43.41</td>\n",
       "      <td>3.80</td>\n",
       "      <td>+</td>\n",
       "    </tr>\n",
       "    <tr>\n",
       "      <th>4</th>\n",
       "      <td>5</td>\n",
       "      <td>2</td>\n",
       "      <td>London</td>\n",
       "      <td>United Kingdom</td>\n",
       "      <td>56.913</td>\n",
       "      <td>15.77</td>\n",
       "      <td>37.44</td>\n",
       "      <td>3.70</td>\n",
       "      <td>-</td>\n",
       "    </tr>\n",
       "    <tr>\n",
       "      <th>...</th>\n",
       "      <td>...</td>\n",
       "      <td>...</td>\n",
       "      <td>...</td>\n",
       "      <td>...</td>\n",
       "      <td>...</td>\n",
       "      <td>...</td>\n",
       "      <td>...</td>\n",
       "      <td>...</td>\n",
       "      <td>...</td>\n",
       "    </tr>\n",
       "    <tr>\n",
       "      <th>995</th>\n",
       "      <td>996</td>\n",
       "      <td>26</td>\n",
       "      <td>Ouagadougou</td>\n",
       "      <td>Burkina Faso</td>\n",
       "      <td>0.060</td>\n",
       "      <td>0.02</td>\n",
       "      <td>0.02</td>\n",
       "      <td>0.02</td>\n",
       "      <td>-</td>\n",
       "    </tr>\n",
       "    <tr>\n",
       "      <th>996</th>\n",
       "      <td>997</td>\n",
       "      <td>new</td>\n",
       "      <td>Baghdad</td>\n",
       "      <td>Iraq</td>\n",
       "      <td>0.058</td>\n",
       "      <td>0.01</td>\n",
       "      <td>0.02</td>\n",
       "      <td>0.03</td>\n",
       "      <td>NaN</td>\n",
       "    </tr>\n",
       "    <tr>\n",
       "      <th>997</th>\n",
       "      <td>998</td>\n",
       "      <td>13</td>\n",
       "      <td>Mbabane</td>\n",
       "      <td>Swaziland</td>\n",
       "      <td>0.057</td>\n",
       "      <td>0.01</td>\n",
       "      <td>0.02</td>\n",
       "      <td>0.03</td>\n",
       "      <td>-</td>\n",
       "    </tr>\n",
       "    <tr>\n",
       "      <th>998</th>\n",
       "      <td>999</td>\n",
       "      <td>new</td>\n",
       "      <td>Conakry</td>\n",
       "      <td>Guinea</td>\n",
       "      <td>0.047</td>\n",
       "      <td>0.01</td>\n",
       "      <td>0.02</td>\n",
       "      <td>0.02</td>\n",
       "      <td>NaN</td>\n",
       "    </tr>\n",
       "    <tr>\n",
       "      <th>999</th>\n",
       "      <td>1000</td>\n",
       "      <td>new</td>\n",
       "      <td>Sanaa</td>\n",
       "      <td>Yemen</td>\n",
       "      <td>0.037</td>\n",
       "      <td>0.01</td>\n",
       "      <td>0.02</td>\n",
       "      <td>0.01</td>\n",
       "      <td>NaN</td>\n",
       "    </tr>\n",
       "  </tbody>\n",
       "</table>\n",
       "<p>1000 rows × 9 columns</p>\n",
       "</div>"
      ],
      "text/plain": [
       "     position change in position from 2020               city  \\\n",
       "0           1                            0  San Francisco Bay   \n",
       "1           2                            0           New York   \n",
       "2           3                            3            Beijing   \n",
       "3           4                            1   Los Angeles Area   \n",
       "4           5                            2             London   \n",
       "..        ...                          ...                ...   \n",
       "995       996                           26        Ouagadougou   \n",
       "996       997                          new            Baghdad   \n",
       "997       998                           13            Mbabane   \n",
       "998       999                          new            Conakry   \n",
       "999      1000                          new              Sanaa   \n",
       "\n",
       "             country  total score  quatity score  quality score  \\\n",
       "0      United States      328.966          29.14         296.02   \n",
       "1      United States      110.777          11.43          95.55   \n",
       "2              China       66.049           5.01          58.61   \n",
       "3      United States       58.441          11.23          43.41   \n",
       "4     United Kingdom       56.913          15.77          37.44   \n",
       "..               ...          ...            ...            ...   \n",
       "995     Burkina Faso        0.060           0.02           0.02   \n",
       "996             Iraq        0.058           0.01           0.02   \n",
       "997        Swaziland        0.057           0.01           0.02   \n",
       "998           Guinea        0.047           0.01           0.02   \n",
       "999            Yemen        0.037           0.01           0.02   \n",
       "\n",
       "     business score sign of change in position  \n",
       "0              3.80                        NaN  \n",
       "1              3.80                        NaN  \n",
       "2              2.43                          +  \n",
       "3              3.80                          +  \n",
       "4              3.70                          -  \n",
       "..              ...                        ...  \n",
       "995            0.02                          -  \n",
       "996            0.03                        NaN  \n",
       "997            0.03                          -  \n",
       "998            0.02                        NaN  \n",
       "999            0.01                        NaN  \n",
       "\n",
       "[1000 rows x 9 columns]"
      ]
     },
     "execution_count": 18,
     "metadata": {},
     "output_type": "execute_result"
    }
   ],
   "source": [
    "df"
   ]
  },
  {
   "cell_type": "code",
   "execution_count": 19,
   "id": "c8ceba84-37bb-4958-bbaf-7bd2c88d45d2",
   "metadata": {},
   "outputs": [
    {
     "data": {
      "text/plain": [
       "Index(['position', 'change in position from 2020', 'city', 'country',\n",
       "       'total score', 'quatity score', 'quality score', 'business score',\n",
       "       'sign of change in position'],\n",
       "      dtype='object')"
      ]
     },
     "execution_count": 19,
     "metadata": {},
     "output_type": "execute_result"
    }
   ],
   "source": [
    "df.columns"
   ]
  },
  {
   "cell_type": "code",
   "execution_count": 22,
   "id": "cf19b947-a027-401e-aa27-9293d862ec35",
   "metadata": {},
   "outputs": [
    {
     "data": {
      "text/plain": [
       "0      328.966\n",
       "1      110.777\n",
       "2       66.049\n",
       "3       58.441\n",
       "4       56.913\n",
       "        ...   \n",
       "995      0.060\n",
       "996      0.058\n",
       "997      0.057\n",
       "998      0.047\n",
       "999      0.037\n",
       "Name: total score, Length: 1000, dtype: float64"
      ]
     },
     "execution_count": 22,
     "metadata": {},
     "output_type": "execute_result"
    }
   ],
   "source": [
    "# Return All total Scores in dataset\n",
    "df.loc[:, \"total score\"]"
   ]
  },
  {
   "cell_type": "code",
   "execution_count": 23,
   "id": "1b87bbfb-c58f-407f-91db-e66a286c6936",
   "metadata": {},
   "outputs": [
    {
     "data": {
      "text/html": [
       "<div>\n",
       "<style scoped>\n",
       "    .dataframe tbody tr th:only-of-type {\n",
       "        vertical-align: middle;\n",
       "    }\n",
       "\n",
       "    .dataframe tbody tr th {\n",
       "        vertical-align: top;\n",
       "    }\n",
       "\n",
       "    .dataframe thead th {\n",
       "        text-align: right;\n",
       "    }\n",
       "</style>\n",
       "<table border=\"1\" class=\"dataframe\">\n",
       "  <thead>\n",
       "    <tr style=\"text-align: right;\">\n",
       "      <th></th>\n",
       "      <th>total score</th>\n",
       "      <th>city</th>\n",
       "      <th>country</th>\n",
       "    </tr>\n",
       "  </thead>\n",
       "  <tbody>\n",
       "    <tr>\n",
       "      <th>0</th>\n",
       "      <td>328.966</td>\n",
       "      <td>San Francisco Bay</td>\n",
       "      <td>United States</td>\n",
       "    </tr>\n",
       "    <tr>\n",
       "      <th>1</th>\n",
       "      <td>110.777</td>\n",
       "      <td>New York</td>\n",
       "      <td>United States</td>\n",
       "    </tr>\n",
       "    <tr>\n",
       "      <th>2</th>\n",
       "      <td>66.049</td>\n",
       "      <td>Beijing</td>\n",
       "      <td>China</td>\n",
       "    </tr>\n",
       "    <tr>\n",
       "      <th>3</th>\n",
       "      <td>58.441</td>\n",
       "      <td>Los Angeles Area</td>\n",
       "      <td>United States</td>\n",
       "    </tr>\n",
       "    <tr>\n",
       "      <th>4</th>\n",
       "      <td>56.913</td>\n",
       "      <td>London</td>\n",
       "      <td>United Kingdom</td>\n",
       "    </tr>\n",
       "    <tr>\n",
       "      <th>...</th>\n",
       "      <td>...</td>\n",
       "      <td>...</td>\n",
       "      <td>...</td>\n",
       "    </tr>\n",
       "    <tr>\n",
       "      <th>995</th>\n",
       "      <td>0.060</td>\n",
       "      <td>Ouagadougou</td>\n",
       "      <td>Burkina Faso</td>\n",
       "    </tr>\n",
       "    <tr>\n",
       "      <th>996</th>\n",
       "      <td>0.058</td>\n",
       "      <td>Baghdad</td>\n",
       "      <td>Iraq</td>\n",
       "    </tr>\n",
       "    <tr>\n",
       "      <th>997</th>\n",
       "      <td>0.057</td>\n",
       "      <td>Mbabane</td>\n",
       "      <td>Swaziland</td>\n",
       "    </tr>\n",
       "    <tr>\n",
       "      <th>998</th>\n",
       "      <td>0.047</td>\n",
       "      <td>Conakry</td>\n",
       "      <td>Guinea</td>\n",
       "    </tr>\n",
       "    <tr>\n",
       "      <th>999</th>\n",
       "      <td>0.037</td>\n",
       "      <td>Sanaa</td>\n",
       "      <td>Yemen</td>\n",
       "    </tr>\n",
       "  </tbody>\n",
       "</table>\n",
       "<p>1000 rows × 3 columns</p>\n",
       "</div>"
      ],
      "text/plain": [
       "     total score               city          country\n",
       "0        328.966  San Francisco Bay    United States\n",
       "1        110.777           New York    United States\n",
       "2         66.049            Beijing            China\n",
       "3         58.441   Los Angeles Area    United States\n",
       "4         56.913             London   United Kingdom\n",
       "..           ...                ...              ...\n",
       "995        0.060        Ouagadougou     Burkina Faso\n",
       "996        0.058            Baghdad             Iraq\n",
       "997        0.057            Mbabane        Swaziland\n",
       "998        0.047            Conakry           Guinea\n",
       "999        0.037              Sanaa            Yemen\n",
       "\n",
       "[1000 rows x 3 columns]"
      ]
     },
     "execution_count": 23,
     "metadata": {},
     "output_type": "execute_result"
    }
   ],
   "source": [
    "# Select all rows for multiple columns, [\"total score\", \"city\", \"country\"]\n",
    "df.loc[:, [\"total score\", \"city\", \"country\"]]"
   ]
  },
  {
   "cell_type": "code",
   "execution_count": 24,
   "id": "96aa10b4-e150-41a7-a619-6c485d3abd54",
   "metadata": {},
   "outputs": [
    {
     "data": {
      "text/html": [
       "<div>\n",
       "<style scoped>\n",
       "    .dataframe tbody tr th:only-of-type {\n",
       "        vertical-align: middle;\n",
       "    }\n",
       "\n",
       "    .dataframe tbody tr th {\n",
       "        vertical-align: top;\n",
       "    }\n",
       "\n",
       "    .dataframe thead th {\n",
       "        text-align: right;\n",
       "    }\n",
       "</style>\n",
       "<table border=\"1\" class=\"dataframe\">\n",
       "  <thead>\n",
       "    <tr style=\"text-align: right;\">\n",
       "      <th></th>\n",
       "      <th>total score</th>\n",
       "      <th>city</th>\n",
       "      <th>country</th>\n",
       "    </tr>\n",
       "  </thead>\n",
       "  <tbody>\n",
       "    <tr>\n",
       "      <th>0</th>\n",
       "      <td>328.966</td>\n",
       "      <td>San Francisco Bay</td>\n",
       "      <td>United States</td>\n",
       "    </tr>\n",
       "    <tr>\n",
       "      <th>1</th>\n",
       "      <td>110.777</td>\n",
       "      <td>New York</td>\n",
       "      <td>United States</td>\n",
       "    </tr>\n",
       "    <tr>\n",
       "      <th>2</th>\n",
       "      <td>66.049</td>\n",
       "      <td>Beijing</td>\n",
       "      <td>China</td>\n",
       "    </tr>\n",
       "    <tr>\n",
       "      <th>3</th>\n",
       "      <td>58.441</td>\n",
       "      <td>Los Angeles Area</td>\n",
       "      <td>United States</td>\n",
       "    </tr>\n",
       "  </tbody>\n",
       "</table>\n",
       "</div>"
      ],
      "text/plain": [
       "   total score               city         country\n",
       "0      328.966  San Francisco Bay   United States\n",
       "1      110.777           New York   United States\n",
       "2       66.049            Beijing           China\n",
       "3       58.441   Los Angeles Area   United States"
      ]
     },
     "execution_count": 24,
     "metadata": {},
     "output_type": "execute_result"
    }
   ],
   "source": [
    "# Select few rows for multiple columns, [\"total score\", \"city\", \"country\"]\n",
    "df.loc[:3, [\"total score\", \"city\", \"country\"]]"
   ]
  },
  {
   "cell_type": "markdown",
   "id": "00bada85-fc68-49b9-9c8b-591f055e23ad",
   "metadata": {},
   "source": [
    "***as you can see the last row=(3) is selected via loc()***"
   ]
  },
  {
   "cell_type": "code",
   "execution_count": 27,
   "id": "a44e1269-0a96-4634-af03-ba277b33009c",
   "metadata": {},
   "outputs": [
    {
     "data": {
      "text/html": [
       "<div>\n",
       "<style scoped>\n",
       "    .dataframe tbody tr th:only-of-type {\n",
       "        vertical-align: middle;\n",
       "    }\n",
       "\n",
       "    .dataframe tbody tr th {\n",
       "        vertical-align: top;\n",
       "    }\n",
       "\n",
       "    .dataframe thead th {\n",
       "        text-align: right;\n",
       "    }\n",
       "</style>\n",
       "<table border=\"1\" class=\"dataframe\">\n",
       "  <thead>\n",
       "    <tr style=\"text-align: right;\">\n",
       "      <th></th>\n",
       "      <th>position</th>\n",
       "      <th>change in position from 2020</th>\n",
       "      <th>city</th>\n",
       "      <th>country</th>\n",
       "      <th>total score</th>\n",
       "      <th>quatity score</th>\n",
       "      <th>quality score</th>\n",
       "      <th>business score</th>\n",
       "      <th>sign of change in position</th>\n",
       "    </tr>\n",
       "  </thead>\n",
       "  <tbody>\n",
       "    <tr>\n",
       "      <th>10</th>\n",
       "      <td>11</td>\n",
       "      <td>1</td>\n",
       "      <td>Paris</td>\n",
       "      <td>France</td>\n",
       "      <td>25.297</td>\n",
       "      <td>5.27</td>\n",
       "      <td>16.62</td>\n",
       "      <td>3.41</td>\n",
       "      <td>+</td>\n",
       "    </tr>\n",
       "    <tr>\n",
       "      <th>11</th>\n",
       "      <td>12</td>\n",
       "      <td>1</td>\n",
       "      <td>Seattle</td>\n",
       "      <td>United States</td>\n",
       "      <td>24.329</td>\n",
       "      <td>3.49</td>\n",
       "      <td>17.04</td>\n",
       "      <td>3.80</td>\n",
       "      <td>-</td>\n",
       "    </tr>\n",
       "    <tr>\n",
       "      <th>12</th>\n",
       "      <td>13</td>\n",
       "      <td>5</td>\n",
       "      <td>Berlin</td>\n",
       "      <td>Germany</td>\n",
       "      <td>23.872</td>\n",
       "      <td>4.03</td>\n",
       "      <td>16.35</td>\n",
       "      <td>3.49</td>\n",
       "      <td>-</td>\n",
       "    </tr>\n",
       "    <tr>\n",
       "      <th>13</th>\n",
       "      <td>14</td>\n",
       "      <td>1</td>\n",
       "      <td>New Delhi</td>\n",
       "      <td>India</td>\n",
       "      <td>22.379</td>\n",
       "      <td>5.88</td>\n",
       "      <td>13.90</td>\n",
       "      <td>2.61</td>\n",
       "      <td>+</td>\n",
       "    </tr>\n",
       "  </tbody>\n",
       "</table>\n",
       "</div>"
      ],
      "text/plain": [
       "    position change in position from 2020       city         country  \\\n",
       "10        11                            1      Paris          France   \n",
       "11        12                            1    Seattle   United States   \n",
       "12        13                            5     Berlin         Germany   \n",
       "13        14                            1  New Delhi           India   \n",
       "\n",
       "    total score  quatity score  quality score  business score  \\\n",
       "10       25.297           5.27          16.62            3.41   \n",
       "11       24.329           3.49          17.04            3.80   \n",
       "12       23.872           4.03          16.35            3.49   \n",
       "13       22.379           5.88          13.90            2.61   \n",
       "\n",
       "   sign of change in position  \n",
       "10                          +  \n",
       "11                          -  \n",
       "12                          -  \n",
       "13                          +  "
      ]
     },
     "execution_count": 27,
     "metadata": {},
     "output_type": "execute_result"
    }
   ],
   "source": [
    "df.loc[10:13]"
   ]
  },
  {
   "cell_type": "code",
   "execution_count": 28,
   "id": "a185092b-bbae-4508-940f-fdd9d2e14712",
   "metadata": {},
   "outputs": [
    {
     "data": {
      "text/html": [
       "<div>\n",
       "<style scoped>\n",
       "    .dataframe tbody tr th:only-of-type {\n",
       "        vertical-align: middle;\n",
       "    }\n",
       "\n",
       "    .dataframe tbody tr th {\n",
       "        vertical-align: top;\n",
       "    }\n",
       "\n",
       "    .dataframe thead th {\n",
       "        text-align: right;\n",
       "    }\n",
       "</style>\n",
       "<table border=\"1\" class=\"dataframe\">\n",
       "  <thead>\n",
       "    <tr style=\"text-align: right;\">\n",
       "      <th></th>\n",
       "      <th>position</th>\n",
       "      <th>change in position from 2020</th>\n",
       "      <th>city</th>\n",
       "      <th>country</th>\n",
       "      <th>total score</th>\n",
       "      <th>quatity score</th>\n",
       "      <th>quality score</th>\n",
       "      <th>business score</th>\n",
       "      <th>sign of change in position</th>\n",
       "    </tr>\n",
       "  </thead>\n",
       "  <tbody>\n",
       "    <tr>\n",
       "      <th>10</th>\n",
       "      <td>11</td>\n",
       "      <td>1</td>\n",
       "      <td>Paris</td>\n",
       "      <td>France</td>\n",
       "      <td>25.297</td>\n",
       "      <td>5.27</td>\n",
       "      <td>16.62</td>\n",
       "      <td>3.41</td>\n",
       "      <td>+</td>\n",
       "    </tr>\n",
       "    <tr>\n",
       "      <th>11</th>\n",
       "      <td>12</td>\n",
       "      <td>1</td>\n",
       "      <td>Seattle</td>\n",
       "      <td>United States</td>\n",
       "      <td>24.329</td>\n",
       "      <td>3.49</td>\n",
       "      <td>17.04</td>\n",
       "      <td>3.80</td>\n",
       "      <td>-</td>\n",
       "    </tr>\n",
       "    <tr>\n",
       "      <th>12</th>\n",
       "      <td>13</td>\n",
       "      <td>5</td>\n",
       "      <td>Berlin</td>\n",
       "      <td>Germany</td>\n",
       "      <td>23.872</td>\n",
       "      <td>4.03</td>\n",
       "      <td>16.35</td>\n",
       "      <td>3.49</td>\n",
       "      <td>-</td>\n",
       "    </tr>\n",
       "  </tbody>\n",
       "</table>\n",
       "</div>"
      ],
      "text/plain": [
       "    position change in position from 2020     city         country  \\\n",
       "10        11                            1    Paris          France   \n",
       "11        12                            1  Seattle   United States   \n",
       "12        13                            5   Berlin         Germany   \n",
       "\n",
       "    total score  quatity score  quality score  business score  \\\n",
       "10       25.297           5.27          16.62            3.41   \n",
       "11       24.329           3.49          17.04            3.80   \n",
       "12       23.872           4.03          16.35            3.49   \n",
       "\n",
       "   sign of change in position  \n",
       "10                          +  \n",
       "11                          -  \n",
       "12                          -  "
      ]
     },
     "execution_count": 28,
     "metadata": {},
     "output_type": "execute_result"
    }
   ],
   "source": [
    "df.iloc[10:13]"
   ]
  },
  {
   "cell_type": "markdown",
   "id": "de0b104d-1c02-4d43-b3a7-96882676e801",
   "metadata": {},
   "source": [
    "***the last row is not selected via iloc()***"
   ]
  },
  {
   "cell_type": "code",
   "execution_count": 29,
   "id": "1b051662-8363-479b-a09b-7ad680bfb863",
   "metadata": {},
   "outputs": [
    {
     "data": {
      "text/html": [
       "<div>\n",
       "<style scoped>\n",
       "    .dataframe tbody tr th:only-of-type {\n",
       "        vertical-align: middle;\n",
       "    }\n",
       "\n",
       "    .dataframe tbody tr th {\n",
       "        vertical-align: top;\n",
       "    }\n",
       "\n",
       "    .dataframe thead th {\n",
       "        text-align: right;\n",
       "    }\n",
       "</style>\n",
       "<table border=\"1\" class=\"dataframe\">\n",
       "  <thead>\n",
       "    <tr style=\"text-align: right;\">\n",
       "      <th></th>\n",
       "      <th>city</th>\n",
       "      <th>country</th>\n",
       "    </tr>\n",
       "  </thead>\n",
       "  <tbody>\n",
       "    <tr>\n",
       "      <th>1</th>\n",
       "      <td>New York</td>\n",
       "      <td>United States</td>\n",
       "    </tr>\n",
       "    <tr>\n",
       "      <th>2</th>\n",
       "      <td>Beijing</td>\n",
       "      <td>China</td>\n",
       "    </tr>\n",
       "    <tr>\n",
       "      <th>3</th>\n",
       "      <td>Los Angeles Area</td>\n",
       "      <td>United States</td>\n",
       "    </tr>\n",
       "    <tr>\n",
       "      <th>4</th>\n",
       "      <td>London</td>\n",
       "      <td>United Kingdom</td>\n",
       "    </tr>\n",
       "  </tbody>\n",
       "</table>\n",
       "</div>"
      ],
      "text/plain": [
       "               city          country\n",
       "1          New York    United States\n",
       "2           Beijing            China\n",
       "3  Los Angeles Area    United States\n",
       "4            London   United Kingdom"
      ]
     },
     "execution_count": 29,
     "metadata": {},
     "output_type": "execute_result"
    }
   ],
   "source": [
    "df.iloc[1:5, 2:4]"
   ]
  },
  {
   "cell_type": "code",
   "execution_count": 30,
   "id": "ddfdaa30-5579-4a3d-8e71-49914eea84c3",
   "metadata": {},
   "outputs": [
    {
     "ename": "IndexError",
     "evalue": ".iloc requires numeric indexers, got ['city' 'country']",
     "output_type": "error",
     "traceback": [
      "\u001b[0;31m---------------------------------------------------------------------------\u001b[0m",
      "\u001b[0;31mIndexError\u001b[0m                                Traceback (most recent call last)",
      "\u001b[0;32m/tmp/ipykernel_1400/4100346608.py\u001b[0m in \u001b[0;36m<module>\u001b[0;34m\u001b[0m\n\u001b[0;32m----> 1\u001b[0;31m \u001b[0mdf\u001b[0m\u001b[0;34m.\u001b[0m\u001b[0miloc\u001b[0m\u001b[0;34m[\u001b[0m\u001b[0;36m1\u001b[0m\u001b[0;34m:\u001b[0m\u001b[0;36m5\u001b[0m\u001b[0;34m,\u001b[0m \u001b[0;34m[\u001b[0m\u001b[0;34m\"city\"\u001b[0m\u001b[0;34m,\u001b[0m \u001b[0;34m\"country\"\u001b[0m\u001b[0;34m]\u001b[0m\u001b[0;34m]\u001b[0m\u001b[0;34m\u001b[0m\u001b[0;34m\u001b[0m\u001b[0m\n\u001b[0m",
      "\u001b[0;32m~/anaconda3/envs/spark/lib/python3.9/site-packages/pandas/core/indexing.py\u001b[0m in \u001b[0;36m__getitem__\u001b[0;34m(self, key)\u001b[0m\n\u001b[1;32m    923\u001b[0m                 \u001b[0;32mwith\u001b[0m \u001b[0msuppress\u001b[0m\u001b[0;34m(\u001b[0m\u001b[0mKeyError\u001b[0m\u001b[0;34m,\u001b[0m \u001b[0mIndexError\u001b[0m\u001b[0;34m)\u001b[0m\u001b[0;34m:\u001b[0m\u001b[0;34m\u001b[0m\u001b[0;34m\u001b[0m\u001b[0m\n\u001b[1;32m    924\u001b[0m                     \u001b[0;32mreturn\u001b[0m \u001b[0mself\u001b[0m\u001b[0;34m.\u001b[0m\u001b[0mobj\u001b[0m\u001b[0;34m.\u001b[0m\u001b[0m_get_value\u001b[0m\u001b[0;34m(\u001b[0m\u001b[0;34m*\u001b[0m\u001b[0mkey\u001b[0m\u001b[0;34m,\u001b[0m \u001b[0mtakeable\u001b[0m\u001b[0;34m=\u001b[0m\u001b[0mself\u001b[0m\u001b[0;34m.\u001b[0m\u001b[0m_takeable\u001b[0m\u001b[0;34m)\u001b[0m\u001b[0;34m\u001b[0m\u001b[0;34m\u001b[0m\u001b[0m\n\u001b[0;32m--> 925\u001b[0;31m             \u001b[0;32mreturn\u001b[0m \u001b[0mself\u001b[0m\u001b[0;34m.\u001b[0m\u001b[0m_getitem_tuple\u001b[0m\u001b[0;34m(\u001b[0m\u001b[0mkey\u001b[0m\u001b[0;34m)\u001b[0m\u001b[0;34m\u001b[0m\u001b[0;34m\u001b[0m\u001b[0m\n\u001b[0m\u001b[1;32m    926\u001b[0m         \u001b[0;32melse\u001b[0m\u001b[0;34m:\u001b[0m\u001b[0;34m\u001b[0m\u001b[0;34m\u001b[0m\u001b[0m\n\u001b[1;32m    927\u001b[0m             \u001b[0;31m# we by definition only have the 0th axis\u001b[0m\u001b[0;34m\u001b[0m\u001b[0;34m\u001b[0m\u001b[0m\n",
      "\u001b[0;32m~/anaconda3/envs/spark/lib/python3.9/site-packages/pandas/core/indexing.py\u001b[0m in \u001b[0;36m_getitem_tuple\u001b[0;34m(self, tup)\u001b[0m\n\u001b[1;32m   1504\u001b[0m     \u001b[0;32mdef\u001b[0m \u001b[0m_getitem_tuple\u001b[0m\u001b[0;34m(\u001b[0m\u001b[0mself\u001b[0m\u001b[0;34m,\u001b[0m \u001b[0mtup\u001b[0m\u001b[0;34m:\u001b[0m \u001b[0mtuple\u001b[0m\u001b[0;34m)\u001b[0m\u001b[0;34m:\u001b[0m\u001b[0;34m\u001b[0m\u001b[0;34m\u001b[0m\u001b[0m\n\u001b[1;32m   1505\u001b[0m \u001b[0;34m\u001b[0m\u001b[0m\n\u001b[0;32m-> 1506\u001b[0;31m         \u001b[0mself\u001b[0m\u001b[0;34m.\u001b[0m\u001b[0m_has_valid_tuple\u001b[0m\u001b[0;34m(\u001b[0m\u001b[0mtup\u001b[0m\u001b[0;34m)\u001b[0m\u001b[0;34m\u001b[0m\u001b[0;34m\u001b[0m\u001b[0m\n\u001b[0m\u001b[1;32m   1507\u001b[0m         \u001b[0;32mwith\u001b[0m \u001b[0msuppress\u001b[0m\u001b[0;34m(\u001b[0m\u001b[0mIndexingError\u001b[0m\u001b[0;34m)\u001b[0m\u001b[0;34m:\u001b[0m\u001b[0;34m\u001b[0m\u001b[0;34m\u001b[0m\u001b[0m\n\u001b[1;32m   1508\u001b[0m             \u001b[0;32mreturn\u001b[0m \u001b[0mself\u001b[0m\u001b[0;34m.\u001b[0m\u001b[0m_getitem_lowerdim\u001b[0m\u001b[0;34m(\u001b[0m\u001b[0mtup\u001b[0m\u001b[0;34m)\u001b[0m\u001b[0;34m\u001b[0m\u001b[0;34m\u001b[0m\u001b[0m\n",
      "\u001b[0;32m~/anaconda3/envs/spark/lib/python3.9/site-packages/pandas/core/indexing.py\u001b[0m in \u001b[0;36m_has_valid_tuple\u001b[0;34m(self, key)\u001b[0m\n\u001b[1;32m    752\u001b[0m         \u001b[0;32mfor\u001b[0m \u001b[0mi\u001b[0m\u001b[0;34m,\u001b[0m \u001b[0mk\u001b[0m \u001b[0;32min\u001b[0m \u001b[0menumerate\u001b[0m\u001b[0;34m(\u001b[0m\u001b[0mkey\u001b[0m\u001b[0;34m)\u001b[0m\u001b[0;34m:\u001b[0m\u001b[0;34m\u001b[0m\u001b[0;34m\u001b[0m\u001b[0m\n\u001b[1;32m    753\u001b[0m             \u001b[0;32mtry\u001b[0m\u001b[0;34m:\u001b[0m\u001b[0;34m\u001b[0m\u001b[0;34m\u001b[0m\u001b[0m\n\u001b[0;32m--> 754\u001b[0;31m                 \u001b[0mself\u001b[0m\u001b[0;34m.\u001b[0m\u001b[0m_validate_key\u001b[0m\u001b[0;34m(\u001b[0m\u001b[0mk\u001b[0m\u001b[0;34m,\u001b[0m \u001b[0mi\u001b[0m\u001b[0;34m)\u001b[0m\u001b[0;34m\u001b[0m\u001b[0;34m\u001b[0m\u001b[0m\n\u001b[0m\u001b[1;32m    755\u001b[0m             \u001b[0;32mexcept\u001b[0m \u001b[0mValueError\u001b[0m \u001b[0;32mas\u001b[0m \u001b[0merr\u001b[0m\u001b[0;34m:\u001b[0m\u001b[0;34m\u001b[0m\u001b[0;34m\u001b[0m\u001b[0m\n\u001b[1;32m    756\u001b[0m                 raise ValueError(\n",
      "\u001b[0;32m~/anaconda3/envs/spark/lib/python3.9/site-packages/pandas/core/indexing.py\u001b[0m in \u001b[0;36m_validate_key\u001b[0;34m(self, key, axis)\u001b[0m\n\u001b[1;32m   1418\u001b[0m             \u001b[0;31m# check that the key has a numeric dtype\u001b[0m\u001b[0;34m\u001b[0m\u001b[0;34m\u001b[0m\u001b[0m\n\u001b[1;32m   1419\u001b[0m             \u001b[0;32mif\u001b[0m \u001b[0;32mnot\u001b[0m \u001b[0mis_numeric_dtype\u001b[0m\u001b[0;34m(\u001b[0m\u001b[0marr\u001b[0m\u001b[0;34m.\u001b[0m\u001b[0mdtype\u001b[0m\u001b[0;34m)\u001b[0m\u001b[0;34m:\u001b[0m\u001b[0;34m\u001b[0m\u001b[0;34m\u001b[0m\u001b[0m\n\u001b[0;32m-> 1420\u001b[0;31m                 \u001b[0;32mraise\u001b[0m \u001b[0mIndexError\u001b[0m\u001b[0;34m(\u001b[0m\u001b[0;34mf\".iloc requires numeric indexers, got {arr}\"\u001b[0m\u001b[0;34m)\u001b[0m\u001b[0;34m\u001b[0m\u001b[0;34m\u001b[0m\u001b[0m\n\u001b[0m\u001b[1;32m   1421\u001b[0m \u001b[0;34m\u001b[0m\u001b[0m\n\u001b[1;32m   1422\u001b[0m             \u001b[0;31m# check that the key does not exceed the maximum size of the index\u001b[0m\u001b[0;34m\u001b[0m\u001b[0;34m\u001b[0m\u001b[0m\n",
      "\u001b[0;31mIndexError\u001b[0m: .iloc requires numeric indexers, got ['city' 'country']"
     ]
    }
   ],
   "source": [
    "df.iloc[1:5, [\"city\", \"country\"]]"
   ]
  },
  {
   "cell_type": "code",
   "execution_count": 31,
   "id": "02316e2f-e518-4c34-8eaf-6b331c5e2ec0",
   "metadata": {},
   "outputs": [
    {
     "data": {
      "text/plain": [
       "position                          int64\n",
       "change in position from 2020     object\n",
       "city                             object\n",
       "country                          object\n",
       "total score                     float64\n",
       "quatity score                   float64\n",
       "quality score                   float64\n",
       "business score                  float64\n",
       "sign of change in position       object\n",
       "dtype: object"
      ]
     },
     "execution_count": 31,
     "metadata": {},
     "output_type": "execute_result"
    }
   ],
   "source": [
    "df.dtypes"
   ]
  },
  {
   "cell_type": "code",
   "execution_count": 34,
   "id": "8b8afc0c-32a3-4e31-84f9-ccd1f0f69e41",
   "metadata": {},
   "outputs": [
    {
     "data": {
      "text/plain": [
       "array([' United States', ' China', ' United Kingdom', ' Israel',\n",
       "       ' Russia', ' India', ' France', ' Germany', ' Japan', ' Brazil',\n",
       "       ' South Korea', ' Sweden', ' Singapore', ' Canada',\n",
       "       ' The Netherlands', ' Indonesia', ' Australia', ' Spain',\n",
       "       ' Taiwan', ' Finland', ' Ukraine', ' Mexico', ' Ireland', ' Italy',\n",
       "       ' Switzerland', ' Argentina', ' Denmark', ' Estonia',\n",
       "       ' United Arab Emirates', ' Turkey', ' Chile', ' Thailand',\n",
       "       ' Belgium', ' Colombia', ' Poland', ' Malaysia', ' Portugal',\n",
       "       ' Czechia', ' Lithuania', ' Austria', ' Philippines', ' Norway',\n",
       "       ' New Zealand', ' Romania', ' Bulgaria', ' Nigeria', ' Hungary',\n",
       "       ' Kenya', ' Peru', ' South Africa', ' Greece', ' Latvia',\n",
       "       ' Serbia', ' Uruguay', ' Croatia', ' Vietnam', ' Egypt',\n",
       "       ' Slovenia', ' Luxembourg', ' Saudi Arabia', ' Slovakia',\n",
       "       ' Jordan', ' Iceland', ' Belarus', ' Pakistan', ' Bangladesh',\n",
       "       ' Rwanda', ' North Macedonia', ' Ghana', ' Armenia', ' Costa Rica',\n",
       "       ' Bahrain', ' Tunisia', ' Puerto Rico', ' Lebanon', ' Kazakhstan',\n",
       "       ' Morocco', ' Jersey', ' Uganda', ' Malta', ' Sri Lanka',\n",
       "       ' Ecuador', ' Georgia', ' Cyprus', ' Azerbaijan', ' Nepal',\n",
       "       ' Liechtenstein', ' Qatar', ' Panama', ' Kuwait', ' Albania',\n",
       "       ' Mongolia', ' Myanmar', ' Ethiopia', ' Iran', ' Venezuela',\n",
       "       ' Moldova', ' Somalia', ' Dominican Republic', ' Paraguay',\n",
       "       ' Ivory Coast', ' Cambodia', ' Guatemala', ' Cape Verde',\n",
       "       ' Bosnia and Herzegovina', ' Jamaica', ' Tanzania', ' El Salvador',\n",
       "       ' Andorra', ' Senegal', ' Gibraltar', ' Namibia', ' Zambia',\n",
       "       ' Uzbekistan', ' Seychelles', ' Zimbabwe', ' Angola',\n",
       "       ' Madagascar', ' Nicaragua', ' Palestine', ' Cameroon', ' Mali',\n",
       "       ' Honduras', ' Botswana', ' Belize', ' Bolivia', ' Mozambique',\n",
       "       ' Algeria', ' Afghanistan', ' Guernsey', ' Haiti',\n",
       "       ' Democratic Republic of the Congo', ' Isle of Man', ' Barbados',\n",
       "       ' Benin', ' Burkina Faso', ' Iraq', ' Swaziland', ' Guinea',\n",
       "       ' Yemen'], dtype=object)"
      ]
     },
     "execution_count": 34,
     "metadata": {},
     "output_type": "execute_result"
    }
   ],
   "source": [
    "# List unique values in the df['city'] column\n",
    "df.country.unique()"
   ]
  },
  {
   "cell_type": "code",
   "execution_count": 37,
   "id": "edf23a2c-52f6-4063-8b4d-5705b42082e3",
   "metadata": {},
   "outputs": [
    {
     "data": {
      "text/plain": [
       "country\n",
       " Afghanistan    1\n",
       " Albania        1\n",
       " Algeria        1\n",
       " Andorra        1\n",
       " Angola         1\n",
       "               ..\n",
       " Venezuela      1\n",
       " Vietnam        2\n",
       " Yemen          1\n",
       " Zambia         1\n",
       " Zimbabwe       1\n",
       "Length: 140, dtype: int64"
      ]
     },
     "execution_count": 37,
     "metadata": {},
     "output_type": "execute_result"
    }
   ],
   "source": [
    "df.groupby(['country']).size()"
   ]
  },
  {
   "cell_type": "code",
   "execution_count": 42,
   "id": "9e99fec3-e6b1-42f5-9afa-63630cb38845",
   "metadata": {},
   "outputs": [
    {
     "data": {
      "text/plain": [
       "0      False\n",
       "1      False\n",
       "2      False\n",
       "3      False\n",
       "4      False\n",
       "       ...  \n",
       "995    False\n",
       "996    False\n",
       "997    False\n",
       "998    False\n",
       "999    False\n",
       "Name: total score, Length: 1000, dtype: bool"
      ]
     },
     "execution_count": 42,
     "metadata": {},
     "output_type": "execute_result"
    }
   ],
   "source": [
    "df[\"total score\"].isnull()"
   ]
  },
  {
   "cell_type": "code",
   "execution_count": 43,
   "id": "9074b6ae-74e1-4300-9181-437514072fe1",
   "metadata": {},
   "outputs": [
    {
     "data": {
      "text/plain": [
       "0"
      ]
     },
     "execution_count": 43,
     "metadata": {},
     "output_type": "execute_result"
    }
   ],
   "source": [
    "df[\"total score\"].isnull().sum()"
   ]
  },
  {
   "cell_type": "code",
   "execution_count": 44,
   "id": "b76977cf-01e6-49f2-bdc5-21f1dab0c5c8",
   "metadata": {},
   "outputs": [
    {
     "data": {
      "text/plain": [
       "0      True\n",
       "1      True\n",
       "2      True\n",
       "3      True\n",
       "4      True\n",
       "       ... \n",
       "995    True\n",
       "996    True\n",
       "997    True\n",
       "998    True\n",
       "999    True\n",
       "Name: total score, Length: 1000, dtype: bool"
      ]
     },
     "execution_count": 44,
     "metadata": {},
     "output_type": "execute_result"
    }
   ],
   "source": [
    "df[\"total score\"].notnull()"
   ]
  },
  {
   "cell_type": "code",
   "execution_count": 46,
   "id": "b91f2fe9-71d0-4e74-b802-6611e18fdb4b",
   "metadata": {},
   "outputs": [
    {
     "data": {
      "text/plain": [
       "1000"
      ]
     },
     "execution_count": 46,
     "metadata": {},
     "output_type": "execute_result"
    }
   ],
   "source": [
    "df[\"total score\"].notnull().sum()"
   ]
  },
  {
   "cell_type": "markdown",
   "id": "70dfe926-2455-49cb-9279-9f05d8f0a553",
   "metadata": {},
   "source": [
    "## Part 3\n",
    "### Numpy"
   ]
  },
  {
   "cell_type": "code",
   "execution_count": 48,
   "id": "5a067deb-5d31-474f-89d6-0c6d581e97c8",
   "metadata": {},
   "outputs": [],
   "source": [
    "import numpy as np"
   ]
  },
  {
   "cell_type": "code",
   "execution_count": 49,
   "id": "6a32da36-9f9f-499a-b6b0-97406d56d5c2",
   "metadata": {},
   "outputs": [
    {
     "data": {
      "text/plain": [
       "array([ 6,  7,  8,  9, 10])"
      ]
     },
     "execution_count": 49,
     "metadata": {},
     "output_type": "execute_result"
    }
   ],
   "source": [
    "# Create a 5x1 numpy array\n",
    "x = np.array([6, 7, 8, 9, 10])\n",
    "x"
   ]
  },
  {
   "cell_type": "code",
   "execution_count": 51,
   "id": "916f2624-f2cb-4382-8d39-666432bd828d",
   "metadata": {},
   "outputs": [
    {
     "data": {
      "text/plain": [
       "numpy.ndarray"
      ]
     },
     "execution_count": 51,
     "metadata": {},
     "output_type": "execute_result"
    }
   ],
   "source": [
    "# Print object type\n",
    "type(x)"
   ]
  },
  {
   "cell_type": "code",
   "execution_count": 52,
   "id": "4b690eda-8bef-4d07-bb7f-453528368b78",
   "metadata": {},
   "outputs": [
    {
     "name": "stdout",
     "output_type": "stream",
     "text": [
      "6 7 8\n"
     ]
    }
   ],
   "source": [
    "# Print some values in x\n",
    "print(x[0], x[1], x[2])"
   ]
  },
  {
   "cell_type": "code",
   "execution_count": 53,
   "id": "455f5822-f6be-4737-aa5f-9e108063689a",
   "metadata": {},
   "outputs": [
    {
     "data": {
      "text/plain": [
       "array([[8, 9, 3],\n",
       "       [1, 2, 3],\n",
       "       [7, 7, 7]])"
      ]
     },
     "execution_count": 53,
     "metadata": {},
     "output_type": "execute_result"
    }
   ],
   "source": [
    "# Create a 3x3 numpy array\n",
    "t = np.array([[8, 9, 3], [1, 2, 3], [7, 7, 7]])\n",
    "t"
   ]
  },
  {
   "cell_type": "code",
   "execution_count": 54,
   "id": "c8ede0fd-5b4a-44fe-9f9f-92973183026f",
   "metadata": {},
   "outputs": [
    {
     "data": {
      "text/plain": [
       "(3, 3)"
      ]
     },
     "execution_count": 54,
     "metadata": {},
     "output_type": "execute_result"
    }
   ],
   "source": [
    "# Print shape\n",
    "t.shape"
   ]
  },
  {
   "cell_type": "code",
   "execution_count": 55,
   "id": "b1f6631a-63f0-4bf4-9a3a-6faa17e39dd3",
   "metadata": {},
   "outputs": [
    {
     "name": "stdout",
     "output_type": "stream",
     "text": [
      "8 2 7\n"
     ]
    }
   ],
   "source": [
    "# Print some values in t\n",
    "print(t[0,0], t[1,1], t[2,2])"
   ]
  },
  {
   "cell_type": "code",
   "execution_count": 57,
   "id": "cc87a888-7ca9-4bfe-8f21-638d8c29e3bc",
   "metadata": {},
   "outputs": [
    {
     "data": {
      "text/plain": [
       "array([[11, 11],\n",
       "       [22, 22],\n",
       "       [33, 33]])"
      ]
     },
     "execution_count": 57,
     "metadata": {},
     "output_type": "execute_result"
    }
   ],
   "source": [
    "# Create a 3x2 numpy array\n",
    "h = np.array([[11,11],[22,22],[33,33]])\n",
    "h"
   ]
  },
  {
   "cell_type": "code",
   "execution_count": 59,
   "id": "ad37cbb5-fce1-4dc2-8a1e-1d7bf1b040fd",
   "metadata": {},
   "outputs": [
    {
     "data": {
      "text/plain": [
       "(3, 2)"
      ]
     },
     "execution_count": 59,
     "metadata": {},
     "output_type": "execute_result"
    }
   ],
   "source": [
    "# Print shape\n",
    "h.shape"
   ]
  },
  {
   "cell_type": "code",
   "execution_count": 60,
   "id": "21e5de72-6588-4654-a190-f7500ff0972e",
   "metadata": {},
   "outputs": [
    {
     "name": "stdout",
     "output_type": "stream",
     "text": [
      "11 22 33 33\n"
     ]
    }
   ],
   "source": [
    "# Print some values in h\n",
    "print(h[0,1], h[1,0], h[2,0], h[2,1])"
   ]
  },
  {
   "cell_type": "code",
   "execution_count": 63,
   "id": "4a0cb04d-1dae-4501-acd3-87a7c7c33ad5",
   "metadata": {},
   "outputs": [
    {
     "data": {
      "text/plain": [
       "array([[0., 0., 0., 0.],\n",
       "       [0., 0., 0., 0.],\n",
       "       [0., 0., 0., 0.],\n",
       "       [0., 0., 0., 0.]])"
      ]
     },
     "execution_count": 63,
     "metadata": {},
     "output_type": "execute_result"
    }
   ],
   "source": [
    "# 4x4 zero array \n",
    "o = np.zeros((4,4))\n",
    "o"
   ]
  },
  {
   "cell_type": "code",
   "execution_count": 64,
   "id": "6638fe66-99ff-48c9-9554-2b45bcfc99fa",
   "metadata": {},
   "outputs": [
    {
     "data": {
      "text/plain": [
       "array([[1., 1.],\n",
       "       [1., 1.]])"
      ]
     },
     "execution_count": 64,
     "metadata": {},
     "output_type": "execute_result"
    }
   ],
   "source": [
    "# 2x2 array of ones\n",
    "e = np.ones((2,2))\n",
    "e"
   ]
  },
  {
   "cell_type": "code",
   "execution_count": 65,
   "id": "8d7ec715-fb97-484d-9191-920a1434a331",
   "metadata": {},
   "outputs": [
    {
     "data": {
      "text/plain": [
       "array([['x', 'x', 'x', 'x', 'x'],\n",
       "       ['x', 'x', 'x', 'x', 'x'],\n",
       "       ['x', 'x', 'x', 'x', 'x'],\n",
       "       ['x', 'x', 'x', 'x', 'x'],\n",
       "       ['x', 'x', 'x', 'x', 'x']], dtype='<U1')"
      ]
     },
     "execution_count": 65,
     "metadata": {},
     "output_type": "execute_result"
    }
   ],
   "source": [
    "### 3x2 constant array\n",
    "g = np.full((5,5), \"x\")\n",
    "g"
   ]
  },
  {
   "cell_type": "code",
   "execution_count": 71,
   "id": "ab7c3d1c-e449-4728-8efe-3be3cd3af7e3",
   "metadata": {},
   "outputs": [
    {
     "data": {
      "text/plain": [
       "array([[0.11715455, 0.94171477, 0.95590578],\n",
       "       [0.36206811, 0.32358921, 0.83426084],\n",
       "       [0.12289603, 0.75305724, 0.0492263 ],\n",
       "       [0.315503  , 0.06352641, 0.00491483],\n",
       "       [0.08926819, 0.53843705, 0.5932561 ],\n",
       "       [0.94204818, 0.21862934, 0.43504619]])"
      ]
     },
     "execution_count": 71,
     "metadata": {},
     "output_type": "execute_result"
    }
   ],
   "source": [
    "# 6x3 random array\n",
    "f = np.random.random((6,3))\n",
    "f"
   ]
  },
  {
   "cell_type": "code",
   "execution_count": 72,
   "id": "4791ab88-bcab-4ff7-8290-5b32f215150d",
   "metadata": {},
   "outputs": [
    {
     "data": {
      "text/plain": [
       "array([[0.94171477, 0.95590578],\n",
       "       [0.32358921, 0.83426084]])"
      ]
     },
     "execution_count": 72,
     "metadata": {},
     "output_type": "execute_result"
    }
   ],
   "source": [
    "### Slice array to make a 2x2 sub-array\n",
    "z = f [:2, 1:3]\n",
    "z"
   ]
  },
  {
   "cell_type": "code",
   "execution_count": 73,
   "id": "f588a14a-0ee0-4f9a-94e8-f68b660a6241",
   "metadata": {},
   "outputs": [
    {
     "data": {
      "text/plain": [
       "array([[1.        , 0.95590578],\n",
       "       [0.32358921, 0.83426084]])"
      ]
     },
     "execution_count": 73,
     "metadata": {},
     "output_type": "execute_result"
    }
   ],
   "source": [
    "z[0, 0] = 1\n",
    "z"
   ]
  },
  {
   "cell_type": "code",
   "execution_count": 74,
   "id": "8e49449f-ff9f-4f9b-94c6-62b012e9649e",
   "metadata": {},
   "outputs": [
    {
     "data": {
      "text/plain": [
       "array([[0.11715455, 1.        , 0.95590578],\n",
       "       [0.36206811, 0.32358921, 0.83426084],\n",
       "       [0.12289603, 0.75305724, 0.0492263 ],\n",
       "       [0.315503  , 0.06352641, 0.00491483],\n",
       "       [0.08926819, 0.53843705, 0.5932561 ],\n",
       "       [0.94204818, 0.21862934, 0.43504619]])"
      ]
     },
     "execution_count": 74,
     "metadata": {},
     "output_type": "execute_result"
    }
   ],
   "source": [
    "f"
   ]
  },
  {
   "cell_type": "markdown",
   "id": "ea2a69f4-e6cd-4824-b42d-dd7191db32a7",
   "metadata": {},
   "source": [
    "**Datatypes in Arrays**"
   ]
  },
  {
   "cell_type": "code",
   "execution_count": 75,
   "id": "61a3b870-5434-4af3-ac62-6ff3ea36de38",
   "metadata": {},
   "outputs": [
    {
     "data": {
      "text/plain": [
       "dtype('int64')"
      ]
     },
     "execution_count": 75,
     "metadata": {},
     "output_type": "execute_result"
    }
   ],
   "source": [
    "# Integer\n",
    "x = np.array([1, 2])\n",
    "x.dtype"
   ]
  },
  {
   "cell_type": "code",
   "execution_count": 76,
   "id": "1f6459f1-f584-4ebb-bef1-9ff4b632d52d",
   "metadata": {},
   "outputs": [
    {
     "data": {
      "text/plain": [
       "dtype('float64')"
      ]
     },
     "execution_count": 76,
     "metadata": {},
     "output_type": "execute_result"
    }
   ],
   "source": [
    "# Float\n",
    "x = np.array([2.26, 3.14])\n",
    "x.dtype"
   ]
  },
  {
   "cell_type": "code",
   "execution_count": 79,
   "id": "62d91b33-04d4-474d-b56f-19578af83f6b",
   "metadata": {},
   "outputs": [
    {
     "name": "stdout",
     "output_type": "stream",
     "text": [
      "[2 3]\n"
     ]
    },
    {
     "data": {
      "text/plain": [
       "dtype('int64')"
      ]
     },
     "execution_count": 79,
     "metadata": {},
     "output_type": "execute_result"
    }
   ],
   "source": [
    "# Force Data Type to be Integer\n",
    "x = np.array([2.26, 3.14], dtype=np.int64)\n",
    "print(x)\n",
    "x.dtype"
   ]
  },
  {
   "cell_type": "markdown",
   "id": "4c4d9601-bd53-4729-9302-ea87f6781196",
   "metadata": {},
   "source": [
    "**Array Math**"
   ]
  },
  {
   "cell_type": "code",
   "execution_count": 90,
   "id": "becceb29-fc3f-4646-abad-198a29386f40",
   "metadata": {},
   "outputs": [
    {
     "data": {
      "text/plain": [
       "array([[1., 2.],\n",
       "       [3., 4.]])"
      ]
     },
     "execution_count": 90,
     "metadata": {},
     "output_type": "execute_result"
    }
   ],
   "source": [
    "x = np.array([[1,2],[3,4]], dtype=np.float64)\n",
    "x"
   ]
  },
  {
   "cell_type": "code",
   "execution_count": 91,
   "id": "be55d006-d0ee-4109-b2df-f01a9e5b02c9",
   "metadata": {},
   "outputs": [
    {
     "data": {
      "text/plain": [
       "array([[10., 11.],\n",
       "       [12., 13.]])"
      ]
     },
     "execution_count": 91,
     "metadata": {},
     "output_type": "execute_result"
    }
   ],
   "source": [
    "y = np.array([[10,11],[12,13]], dtype=np.float64)\n",
    "y"
   ]
  },
  {
   "cell_type": "code",
   "execution_count": 92,
   "id": "6b6e9ace-e364-4d85-81d1-b0a0bbfdd7dd",
   "metadata": {},
   "outputs": [
    {
     "data": {
      "text/plain": [
       "array([[11., 13.],\n",
       "       [15., 17.]])"
      ]
     },
     "execution_count": 92,
     "metadata": {},
     "output_type": "execute_result"
    }
   ],
   "source": [
    "# Elementwise sum; both produce the array\n",
    "x + y"
   ]
  },
  {
   "cell_type": "code",
   "execution_count": 93,
   "id": "0e5d1bdd-ae46-449b-b487-4fe41ccf913d",
   "metadata": {},
   "outputs": [
    {
     "data": {
      "text/plain": [
       "array([[11., 13.],\n",
       "       [15., 17.]])"
      ]
     },
     "execution_count": 93,
     "metadata": {},
     "output_type": "execute_result"
    }
   ],
   "source": [
    "np.add(x, y)"
   ]
  },
  {
   "cell_type": "code",
   "execution_count": 94,
   "id": "eeb3c6f6-49e5-4579-88cd-c821acee85ef",
   "metadata": {},
   "outputs": [
    {
     "data": {
      "text/plain": [
       "array([[-9., -9.],\n",
       "       [-9., -9.]])"
      ]
     },
     "execution_count": 94,
     "metadata": {},
     "output_type": "execute_result"
    }
   ],
   "source": [
    "x - y"
   ]
  },
  {
   "cell_type": "code",
   "execution_count": 95,
   "id": "25bb6edf-cec6-4a13-bc10-ef1effcbb922",
   "metadata": {},
   "outputs": [
    {
     "data": {
      "text/plain": [
       "array([[-9., -9.],\n",
       "       [-9., -9.]])"
      ]
     },
     "execution_count": 95,
     "metadata": {},
     "output_type": "execute_result"
    }
   ],
   "source": [
    "np.subtract(x, y)"
   ]
  },
  {
   "cell_type": "code",
   "execution_count": 96,
   "id": "5558b818-3b84-4285-8830-6159bde79836",
   "metadata": {},
   "outputs": [
    {
     "data": {
      "text/plain": [
       "array([[10., 22.],\n",
       "       [36., 52.]])"
      ]
     },
     "execution_count": 96,
     "metadata": {},
     "output_type": "execute_result"
    }
   ],
   "source": [
    "x * y"
   ]
  },
  {
   "cell_type": "code",
   "execution_count": 97,
   "id": "ab3dff1e-a167-4df3-932d-066f60b810b0",
   "metadata": {},
   "outputs": [
    {
     "data": {
      "text/plain": [
       "array([[10., 22.],\n",
       "       [36., 52.]])"
      ]
     },
     "execution_count": 97,
     "metadata": {},
     "output_type": "execute_result"
    }
   ],
   "source": [
    "np.multiply(x, y)"
   ]
  },
  {
   "cell_type": "code",
   "execution_count": 98,
   "id": "fbd1b95c-dc3a-49c8-913b-b11192007fb0",
   "metadata": {},
   "outputs": [
    {
     "data": {
      "text/plain": [
       "array([[0.1       , 0.18181818],\n",
       "       [0.25      , 0.30769231]])"
      ]
     },
     "execution_count": 98,
     "metadata": {},
     "output_type": "execute_result"
    }
   ],
   "source": [
    "x / y"
   ]
  },
  {
   "cell_type": "code",
   "execution_count": 99,
   "id": "a5f429cc-29a5-4f36-a6a0-bbf6de6e444f",
   "metadata": {},
   "outputs": [
    {
     "data": {
      "text/plain": [
       "array([[0.1       , 0.18181818],\n",
       "       [0.25      , 0.30769231]])"
      ]
     },
     "execution_count": 99,
     "metadata": {},
     "output_type": "execute_result"
    }
   ],
   "source": [
    "np.divide(x, y)"
   ]
  },
  {
   "cell_type": "code",
   "execution_count": 101,
   "id": "20dd48d7-7e9e-452f-b5a6-063d5a8d034e",
   "metadata": {},
   "outputs": [
    {
     "data": {
      "text/plain": [
       "array([[3.16227766, 3.31662479],\n",
       "       [3.46410162, 3.60555128]])"
      ]
     },
     "execution_count": 101,
     "metadata": {},
     "output_type": "execute_result"
    }
   ],
   "source": [
    "np.sqrt(y)"
   ]
  },
  {
   "cell_type": "code",
   "execution_count": 103,
   "id": "7fdc56eb-86cd-464b-9832-51badad2c1e0",
   "metadata": {},
   "outputs": [
    {
     "data": {
      "text/plain": [
       "array([[1., 2.],\n",
       "       [3., 4.]])"
      ]
     },
     "execution_count": 103,
     "metadata": {},
     "output_type": "execute_result"
    }
   ],
   "source": [
    "x"
   ]
  },
  {
   "cell_type": "code",
   "execution_count": 105,
   "id": "11b7ab03-a0cd-45fd-a4b3-fb38b1e83fc5",
   "metadata": {},
   "outputs": [
    {
     "data": {
      "text/plain": [
       "10.0"
      ]
     },
     "execution_count": 105,
     "metadata": {},
     "output_type": "execute_result"
    }
   ],
   "source": [
    "np.sum(x)"
   ]
  },
  {
   "cell_type": "code",
   "execution_count": 106,
   "id": "b74bf599-fecb-4815-8b0f-2ae492128058",
   "metadata": {},
   "outputs": [
    {
     "data": {
      "text/plain": [
       "array([4., 6.])"
      ]
     },
     "execution_count": 106,
     "metadata": {},
     "output_type": "execute_result"
    }
   ],
   "source": [
    "np.sum(x, axis=0)"
   ]
  },
  {
   "cell_type": "code",
   "execution_count": 107,
   "id": "37a08b76-eaff-4bae-9759-045b6f32bc8d",
   "metadata": {},
   "outputs": [
    {
     "data": {
      "text/plain": [
       "array([3., 7.])"
      ]
     },
     "execution_count": 107,
     "metadata": {},
     "output_type": "execute_result"
    }
   ],
   "source": [
    "np.sum(x, axis=1)"
   ]
  },
  {
   "cell_type": "code",
   "execution_count": 109,
   "id": "286410f0-1b97-4914-9b5e-b3823373ffa2",
   "metadata": {},
   "outputs": [
    {
     "data": {
      "text/plain": [
       "2.5"
      ]
     },
     "execution_count": 109,
     "metadata": {},
     "output_type": "execute_result"
    }
   ],
   "source": [
    "np.mean(x)"
   ]
  },
  {
   "cell_type": "markdown",
   "id": "7b9204ac-f22a-4b6e-8351-f96546f00373",
   "metadata": {},
   "source": [
    "## Part 4\n",
    "### SciPy"
   ]
  },
  {
   "cell_type": "code",
   "execution_count": 110,
   "id": "21e1a08a-bdc7-4a28-9ade-6f185c1a69aa",
   "metadata": {},
   "outputs": [],
   "source": [
    "from scipy import stats"
   ]
  },
  {
   "cell_type": "code",
   "execution_count": 113,
   "id": "7d73d78c-b9f8-48f2-945f-f190706f5cb4",
   "metadata": {},
   "outputs": [
    {
     "name": "stdout",
     "output_type": "stream",
     "text": [
      "[-0.617467    0.97074605  0.39569911  0.72752014  0.57645356  0.1279882\n",
      "  2.10597036  1.35349226  0.72231081  1.05714137  0.62151953  1.48400367\n",
      " -0.67056477  0.26099099  0.87706073 -1.34719286  1.04575031 -1.56437338\n",
      "  1.07069096  1.88285054]\n"
     ]
    }
   ],
   "source": [
    "# Print Normal Random Variables\n",
    "print(stats.norm.rvs(size = 20))"
   ]
  },
  {
   "cell_type": "code",
   "execution_count": 114,
   "id": "9e7b830a-1068-4488-b77d-b085d65562fd",
   "metadata": {},
   "outputs": [],
   "source": [
    "from pylab import *"
   ]
  },
  {
   "cell_type": "code",
   "execution_count": 123,
   "id": "0161e458-128c-4d3d-a4d5-00bf4e459cae",
   "metadata": {},
   "outputs": [
    {
     "data": {
      "text/plain": [
       "array([-1.0000000e+00, -9.5000000e-01, -9.0000000e-01, -8.5000000e-01,\n",
       "       -8.0000000e-01, -7.5000000e-01, -7.0000000e-01, -6.5000000e-01,\n",
       "       -6.0000000e-01, -5.5000000e-01, -5.0000000e-01, -4.5000000e-01,\n",
       "       -4.0000000e-01, -3.5000000e-01, -3.0000000e-01, -2.5000000e-01,\n",
       "       -2.0000000e-01, -1.5000000e-01, -1.0000000e-01, -5.0000000e-02,\n",
       "        8.8817842e-16,  5.0000000e-02,  1.0000000e-01,  1.5000000e-01,\n",
       "        2.0000000e-01,  2.5000000e-01,  3.0000000e-01,  3.5000000e-01,\n",
       "        4.0000000e-01,  4.5000000e-01,  5.0000000e-01,  5.5000000e-01,\n",
       "        6.0000000e-01,  6.5000000e-01,  7.0000000e-01,  7.5000000e-01,\n",
       "        8.0000000e-01,  8.5000000e-01,  9.0000000e-01,  9.5000000e-01])"
      ]
     },
     "execution_count": 123,
     "metadata": {},
     "output_type": "execute_result"
    }
   ],
   "source": [
    "# Create some test data\n",
    "X = np.arange(-1, 1, 0.05)\n",
    "X"
   ]
  },
  {
   "cell_type": "code",
   "execution_count": 124,
   "id": "fd9c1134-5319-4a6c-ba6e-cadd1dda8cd9",
   "metadata": {},
   "outputs": [
    {
     "data": {
      "text/plain": [
       "array([0.36787944, 0.40555451, 0.44485807, 0.4855369 , 0.52729242,\n",
       "       0.56978282, 0.61262639, 0.65540625, 0.69767633, 0.73896849,\n",
       "       0.77880078, 0.81668648, 0.85214379, 0.8847059 , 0.91393119,\n",
       "       0.93941306, 0.96078944, 0.97775124, 0.99004983, 0.99750312,\n",
       "       1.        , 0.99750312, 0.99004983, 0.97775124, 0.96078944,\n",
       "       0.93941306, 0.91393119, 0.8847059 , 0.85214379, 0.81668648,\n",
       "       0.77880078, 0.73896849, 0.69767633, 0.65540625, 0.61262639,\n",
       "       0.56978282, 0.52729242, 0.4855369 , 0.44485807, 0.40555451])"
      ]
     },
     "execution_count": 124,
     "metadata": {},
     "output_type": "execute_result"
    }
   ],
   "source": [
    "Y = exp(-X**2)\n",
    "Y"
   ]
  },
  {
   "cell_type": "code",
   "execution_count": 126,
   "id": "ab3f2d54-2287-47d0-86dc-6f2d8610733c",
   "metadata": {},
   "outputs": [
    {
     "data": {
      "image/png": "[encoded data removed]",
      "text/plain": [
       "<Figure size 432x288 with 1 Axes>"
      ]
     },
     "metadata": {
      "needs_background": "light"
     },
     "output_type": "display_data"
    }
   ],
   "source": [
    "# Normalize the data to a proper PDF\n",
    "Y /= (0.05*Y).sum()\n",
    "\n",
    "# Compute the CDF\n",
    "CY = np.cumsum(Y*0.05)\n",
    "\n",
    "# Plot both\n",
    "plot(X,Y)\n",
    "plot(X,CY,'r--')\n",
    "\n",
    "show()"
   ]
  },
  {
   "cell_type": "code",
   "execution_count": 127,
   "id": "78964eb2-2ff0-4d41-a0f2-e6b3e4b496e7",
   "metadata": {},
   "outputs": [
    {
     "name": "stdout",
     "output_type": "stream",
     "text": [
      "[0.84134475 0.15865525 0.5        0.84134475 0.9986501  0.99996833\n",
      " 0.02275013 1.        ]\n"
     ]
    }
   ],
   "source": [
    "# Compute the Normal CDF of certain values.\n",
    "print(stats.norm.cdf(np.array([1,-1., 0, 1, 3, 4, -2, 6])))"
   ]
  },
  {
   "cell_type": "markdown",
   "id": "ea55dfde-609a-489f-82f1-1bf59d11243d",
   "metadata": {},
   "source": [
    "**Descriptive Statistics**"
   ]
  },
  {
   "cell_type": "code",
   "execution_count": 128,
   "id": "77931319-d000-47aa-b033-fcca33f3dd59",
   "metadata": {},
   "outputs": [],
   "source": [
    "np.random.seed(282629734)"
   ]
  },
  {
   "cell_type": "code",
   "execution_count": 132,
   "id": "b689f960-bd3b-4619-b287-5ca582f0fc17",
   "metadata": {},
   "outputs": [
    {
     "data": {
      "text/plain": [
       "array([-1.39722539,  1.21085971, -1.25466755,  0.06064471,  0.16167266,\n",
       "        0.40498143,  2.11139065,  0.56236646,  0.55510653, -0.16885234])"
      ]
     },
     "execution_count": 132,
     "metadata": {},
     "output_type": "execute_result"
    }
   ],
   "source": [
    "# Generate 10 Student’s T continuous random variables.\n",
    "x = stats.t.rvs(10, size=10)\n",
    "x"
   ]
  },
  {
   "cell_type": "code",
   "execution_count": 134,
   "id": "b8974e71-75db-47ed-b324-c79faee6f789",
   "metadata": {},
   "outputs": [
    {
     "name": "stdout",
     "output_type": "stream",
     "text": [
      "Minimum:  -1.3972253921643685\n",
      "aximum:  2.1113906549567165\n",
      "Mean:  0.22462768677038106\n",
      "Var:  0.9792741396286269\n"
     ]
    },
    {
     "data": {
      "text/plain": [
       "DescribeResult(nobs=10, minmax=(-1.3972253921643685, 2.1113906549567165), mean=0.22462768677038106, variance=1.088082377365141, skewness=0.019349319412274753, kurtosis=-0.3537206952461669)"
      ]
     },
     "execution_count": 134,
     "metadata": {},
     "output_type": "execute_result"
    }
   ],
   "source": [
    "print(\"Minimum: \", x.min())   # equivalent to np.min(x)\n",
    "\n",
    "print(\"aximum: \", x.max())   # equivalent to np.max(x)\n",
    "\n",
    "print(\"Mean: \", x.mean())  # equivalent to np.mean(x)\n",
    "\n",
    "print(\"Var: \", x.var())   # equivalent to np.var(x))\n",
    "\n",
    "stats.describe(x)"
   ]
  },
  {
   "cell_type": "markdown",
   "id": "663d82d5-8205-4aac-bdce-19e87a2b98a6",
   "metadata": {},
   "source": [
    "## Part 5\n",
    "### MatPlotLib"
   ]
  },
  {
   "cell_type": "code",
   "execution_count": 135,
   "id": "d2c46fcb-42b3-4d2b-99ef-cb6bb518952a",
   "metadata": {},
   "outputs": [],
   "source": [
    "import matplotlib.pyplot as plt"
   ]
  },
  {
   "cell_type": "code",
   "execution_count": 147,
   "id": "40a77085-9ee1-4da2-b94c-ecdf4f9fadbd",
   "metadata": {},
   "outputs": [],
   "source": [
    "# Compute the x and y coordinates for points on a cosine curve\n",
    "x = np.arange(0, 3*np.pi, 0.1)\n",
    "y = np.cos(x)"
   ]
  },
  {
   "cell_type": "code",
   "execution_count": 148,
   "id": "b129d17a-898d-46f1-a5a3-78daaeae6ed6",
   "metadata": {},
   "outputs": [
    {
     "data": {
      "image/png": "[encoded data removed]",
      "text/plain": [
       "<Figure size 432x288 with 1 Axes>"
      ]
     },
     "metadata": {
      "needs_background": "light"
     },
     "output_type": "display_data"
    }
   ],
   "source": [
    "# Plot the points using matplotlib\n",
    "plt.plot(x, y)\n",
    "plt.show()"
   ]
  },
  {
   "cell_type": "code",
   "execution_count": 158,
   "id": "160a1112-fb87-4f7c-a07e-dbfba8e0e938",
   "metadata": {},
   "outputs": [
    {
     "data": {
      "image/png": "[encoded data removed]",
      "text/plain": [
       "<Figure size 432x288 with 1 Axes>"
      ]
     },
     "metadata": {
      "needs_background": "light"
     },
     "output_type": "display_data"
    }
   ],
   "source": [
    "x = np.arange(-np.pi*2, np.pi*2, 0.1)\n",
    "y_sin = np.sin(x)\n",
    "y_cos = np.cos(x)\n",
    "# Plot the points using matplotlib\n",
    "plt.plot(x, y_sin)\n",
    "plt.plot(x, y_cos)\n",
    "plt.xlabel('x axis label')\n",
    "plt.ylabel('y axis label')\n",
    "plt.title('Sine and Cosine')\n",
    "plt.legend(['Sine', 'Cosine'])\n",
    "plt.show()"
   ]
  },
  {
   "cell_type": "code",
   "execution_count": 163,
   "id": "55e883af-5145-4dcd-9e32-6f85fffaf4a3",
   "metadata": {},
   "outputs": [
    {
     "data": {
      "image/png": "[encoded data removed]",
      "text/plain": [
       "<Figure size 432x288 with 2 Axes>"
      ]
     },
     "metadata": {
      "needs_background": "light"
     },
     "output_type": "display_data"
    }
   ],
   "source": [
    "x = np.arange(0, 6*np.pi, 0.1)\n",
    "y_sin = np.sin(x)\n",
    "y_cos = np.cos(x)\n",
    "\n",
    "# Set up a subplot grid that has height 2 and width 1,\n",
    "# and set the first such subplot as active.\n",
    "plt.subplot(1, 2, 1)\n",
    "# Make the first plot\n",
    "plt.plot(x, y_sin)\n",
    "plt.title('Sine')\n",
    "\n",
    "# Set the second subplot as active, and make the second plot.\n",
    "plt.subplot(1, 2, 2)\n",
    "plt.plot(x, y_cos)\n",
    "plt.title('Cosine')\n",
    "\n",
    "# Show the figure.\n",
    "plt.show()"
   ]
  },
  {
   "cell_type": "markdown",
   "id": "505d6b66-348b-4fe1-a7f1-cd66ab7287ef",
   "metadata": {},
   "source": [
    "## Part 6\n",
    "### Seaborn"
   ]
  },
  {
   "cell_type": "code",
   "execution_count": 165,
   "id": "621dab97-68e4-4844-8a77-e72995770e8e",
   "metadata": {},
   "outputs": [],
   "source": [
    "import seaborn as sns"
   ]
  },
  {
   "cell_type": "code",
   "execution_count": 198,
   "id": "8b52f977-7147-4cd2-a8d1-349fb4a80bd0",
   "metadata": {},
   "outputs": [
    {
     "data": {
      "text/html": [
       "<div>\n",
       "<style scoped>\n",
       "    .dataframe tbody tr th:only-of-type {\n",
       "        vertical-align: middle;\n",
       "    }\n",
       "\n",
       "    .dataframe tbody tr th {\n",
       "        vertical-align: top;\n",
       "    }\n",
       "\n",
       "    .dataframe thead th {\n",
       "        text-align: right;\n",
       "    }\n",
       "</style>\n",
       "<table border=\"1\" class=\"dataframe\">\n",
       "  <thead>\n",
       "    <tr style=\"text-align: right;\">\n",
       "      <th></th>\n",
       "      <th>School ID</th>\n",
       "      <th>School Name</th>\n",
       "      <th>Borough</th>\n",
       "      <th>Building Code</th>\n",
       "      <th>Street Address</th>\n",
       "      <th>City</th>\n",
       "      <th>State</th>\n",
       "      <th>Zip Code</th>\n",
       "      <th>Latitude</th>\n",
       "      <th>Longitude</th>\n",
       "      <th>...</th>\n",
       "      <th>End Time</th>\n",
       "      <th>Student Enrollment</th>\n",
       "      <th>Percent White</th>\n",
       "      <th>Percent Black</th>\n",
       "      <th>Percent Hispanic</th>\n",
       "      <th>Percent Asian</th>\n",
       "      <th>Average Score (SAT Math)</th>\n",
       "      <th>Average Score (SAT Reading)</th>\n",
       "      <th>Average Score (SAT Writing)</th>\n",
       "      <th>Percent Tested</th>\n",
       "    </tr>\n",
       "  </thead>\n",
       "  <tbody>\n",
       "    <tr>\n",
       "      <th>0</th>\n",
       "      <td>02M260</td>\n",
       "      <td>Clinton School Writers and Artists</td>\n",
       "      <td>Manhattan</td>\n",
       "      <td>M933</td>\n",
       "      <td>425 West 33rd Street</td>\n",
       "      <td>Manhattan</td>\n",
       "      <td>NY</td>\n",
       "      <td>10001</td>\n",
       "      <td>40.75321</td>\n",
       "      <td>-73.99786</td>\n",
       "      <td>...</td>\n",
       "      <td>NaN</td>\n",
       "      <td>NaN</td>\n",
       "      <td>NaN</td>\n",
       "      <td>NaN</td>\n",
       "      <td>NaN</td>\n",
       "      <td>NaN</td>\n",
       "      <td>NaN</td>\n",
       "      <td>NaN</td>\n",
       "      <td>NaN</td>\n",
       "      <td>NaN</td>\n",
       "    </tr>\n",
       "    <tr>\n",
       "      <th>1</th>\n",
       "      <td>06M211</td>\n",
       "      <td>Inwood Early College for Health and Informatio...</td>\n",
       "      <td>Manhattan</td>\n",
       "      <td>M052</td>\n",
       "      <td>650 Academy Street</td>\n",
       "      <td>Manhattan</td>\n",
       "      <td>NY</td>\n",
       "      <td>10002</td>\n",
       "      <td>40.86605</td>\n",
       "      <td>-73.92486</td>\n",
       "      <td>...</td>\n",
       "      <td>3:00 PM</td>\n",
       "      <td>87.0</td>\n",
       "      <td>3.4%</td>\n",
       "      <td>21.8%</td>\n",
       "      <td>67.8%</td>\n",
       "      <td>4.6%</td>\n",
       "      <td>NaN</td>\n",
       "      <td>NaN</td>\n",
       "      <td>NaN</td>\n",
       "      <td>NaN</td>\n",
       "    </tr>\n",
       "    <tr>\n",
       "      <th>2</th>\n",
       "      <td>01M539</td>\n",
       "      <td>New Explorations into Science, Technology and ...</td>\n",
       "      <td>Manhattan</td>\n",
       "      <td>M022</td>\n",
       "      <td>111 Columbia Street</td>\n",
       "      <td>Manhattan</td>\n",
       "      <td>NY</td>\n",
       "      <td>10002</td>\n",
       "      <td>40.71873</td>\n",
       "      <td>-73.97943</td>\n",
       "      <td>...</td>\n",
       "      <td>4:00 PM</td>\n",
       "      <td>1735.0</td>\n",
       "      <td>28.6%</td>\n",
       "      <td>13.3%</td>\n",
       "      <td>18.0%</td>\n",
       "      <td>38.5%</td>\n",
       "      <td>657.0</td>\n",
       "      <td>601.0</td>\n",
       "      <td>601.0</td>\n",
       "      <td>91.0%</td>\n",
       "    </tr>\n",
       "    <tr>\n",
       "      <th>3</th>\n",
       "      <td>02M294</td>\n",
       "      <td>Essex Street Academy</td>\n",
       "      <td>Manhattan</td>\n",
       "      <td>M445</td>\n",
       "      <td>350 Grand Street</td>\n",
       "      <td>Manhattan</td>\n",
       "      <td>NY</td>\n",
       "      <td>10002</td>\n",
       "      <td>40.71687</td>\n",
       "      <td>-73.98953</td>\n",
       "      <td>...</td>\n",
       "      <td>2:45 PM</td>\n",
       "      <td>358.0</td>\n",
       "      <td>11.7%</td>\n",
       "      <td>38.5%</td>\n",
       "      <td>41.3%</td>\n",
       "      <td>5.9%</td>\n",
       "      <td>395.0</td>\n",
       "      <td>411.0</td>\n",
       "      <td>387.0</td>\n",
       "      <td>78.9%</td>\n",
       "    </tr>\n",
       "    <tr>\n",
       "      <th>4</th>\n",
       "      <td>02M308</td>\n",
       "      <td>Lower Manhattan Arts Academy</td>\n",
       "      <td>Manhattan</td>\n",
       "      <td>M445</td>\n",
       "      <td>350 Grand Street</td>\n",
       "      <td>Manhattan</td>\n",
       "      <td>NY</td>\n",
       "      <td>10002</td>\n",
       "      <td>40.71687</td>\n",
       "      <td>-73.98953</td>\n",
       "      <td>...</td>\n",
       "      <td>3:00 PM</td>\n",
       "      <td>383.0</td>\n",
       "      <td>3.1%</td>\n",
       "      <td>28.2%</td>\n",
       "      <td>56.9%</td>\n",
       "      <td>8.6%</td>\n",
       "      <td>418.0</td>\n",
       "      <td>428.0</td>\n",
       "      <td>415.0</td>\n",
       "      <td>65.1%</td>\n",
       "    </tr>\n",
       "    <tr>\n",
       "      <th>...</th>\n",
       "      <td>...</td>\n",
       "      <td>...</td>\n",
       "      <td>...</td>\n",
       "      <td>...</td>\n",
       "      <td>...</td>\n",
       "      <td>...</td>\n",
       "      <td>...</td>\n",
       "      <td>...</td>\n",
       "      <td>...</td>\n",
       "      <td>...</td>\n",
       "      <td>...</td>\n",
       "      <td>...</td>\n",
       "      <td>...</td>\n",
       "      <td>...</td>\n",
       "      <td>...</td>\n",
       "      <td>...</td>\n",
       "      <td>...</td>\n",
       "      <td>...</td>\n",
       "      <td>...</td>\n",
       "      <td>...</td>\n",
       "      <td>...</td>\n",
       "    </tr>\n",
       "    <tr>\n",
       "      <th>430</th>\n",
       "      <td>27Q302</td>\n",
       "      <td>Queens High School for Information, Research, ...</td>\n",
       "      <td>Queens</td>\n",
       "      <td>Q465</td>\n",
       "      <td>8-21 Bay 25th Street</td>\n",
       "      <td>Far Rockaway</td>\n",
       "      <td>NY</td>\n",
       "      <td>11691</td>\n",
       "      <td>40.60199</td>\n",
       "      <td>-73.76283</td>\n",
       "      <td>...</td>\n",
       "      <td>4:10 PM</td>\n",
       "      <td>381.0</td>\n",
       "      <td>2.1%</td>\n",
       "      <td>49.1%</td>\n",
       "      <td>43.6%</td>\n",
       "      <td>4.2%</td>\n",
       "      <td>372.0</td>\n",
       "      <td>362.0</td>\n",
       "      <td>352.0</td>\n",
       "      <td>44.6%</td>\n",
       "    </tr>\n",
       "    <tr>\n",
       "      <th>431</th>\n",
       "      <td>27Q324</td>\n",
       "      <td>Rockaway Park High School for Environmental Su...</td>\n",
       "      <td>Queens</td>\n",
       "      <td>Q410</td>\n",
       "      <td>100-00 Beach Channel Drive</td>\n",
       "      <td>Rockaway Park</td>\n",
       "      <td>NY</td>\n",
       "      <td>11694</td>\n",
       "      <td>40.58601</td>\n",
       "      <td>-73.82309</td>\n",
       "      <td>...</td>\n",
       "      <td>3:30 PM</td>\n",
       "      <td>368.0</td>\n",
       "      <td>14.7%</td>\n",
       "      <td>46.7%</td>\n",
       "      <td>30.2%</td>\n",
       "      <td>3.5%</td>\n",
       "      <td>357.0</td>\n",
       "      <td>381.0</td>\n",
       "      <td>376.0</td>\n",
       "      <td>38.5%</td>\n",
       "    </tr>\n",
       "    <tr>\n",
       "      <th>432</th>\n",
       "      <td>27Q262</td>\n",
       "      <td>Channel View School for Research</td>\n",
       "      <td>Queens</td>\n",
       "      <td>Q410</td>\n",
       "      <td>100-00 Beach Channel Drive</td>\n",
       "      <td>Rockaway Park</td>\n",
       "      <td>NY</td>\n",
       "      <td>11694</td>\n",
       "      <td>40.58601</td>\n",
       "      <td>-73.82309</td>\n",
       "      <td>...</td>\n",
       "      <td>3:04 PM</td>\n",
       "      <td>683.0</td>\n",
       "      <td>10.7%</td>\n",
       "      <td>53.2%</td>\n",
       "      <td>29.1%</td>\n",
       "      <td>6.0%</td>\n",
       "      <td>427.0</td>\n",
       "      <td>430.0</td>\n",
       "      <td>423.0</td>\n",
       "      <td>76.6%</td>\n",
       "    </tr>\n",
       "    <tr>\n",
       "      <th>433</th>\n",
       "      <td>27Q351</td>\n",
       "      <td>Rockaway Collegiate High School</td>\n",
       "      <td>Queens</td>\n",
       "      <td>Q410</td>\n",
       "      <td>100-00 Beach Channel Drive</td>\n",
       "      <td>Rockaway Park</td>\n",
       "      <td>NY</td>\n",
       "      <td>11694</td>\n",
       "      <td>40.58601</td>\n",
       "      <td>-73.82309</td>\n",
       "      <td>...</td>\n",
       "      <td>4:20 PM</td>\n",
       "      <td>397.0</td>\n",
       "      <td>3.8%</td>\n",
       "      <td>52.6%</td>\n",
       "      <td>33.5%</td>\n",
       "      <td>5.0%</td>\n",
       "      <td>399.0</td>\n",
       "      <td>403.0</td>\n",
       "      <td>405.0</td>\n",
       "      <td>46.5%</td>\n",
       "    </tr>\n",
       "    <tr>\n",
       "      <th>434</th>\n",
       "      <td>27Q323</td>\n",
       "      <td>Scholars' Academy</td>\n",
       "      <td>Queens</td>\n",
       "      <td>Q180</td>\n",
       "      <td>320 Beach 104th Street</td>\n",
       "      <td>Rockaway Park</td>\n",
       "      <td>NY</td>\n",
       "      <td>11694</td>\n",
       "      <td>40.58413</td>\n",
       "      <td>-73.82568</td>\n",
       "      <td>...</td>\n",
       "      <td>3:00 PM</td>\n",
       "      <td>1302.0</td>\n",
       "      <td>34.7%</td>\n",
       "      <td>22.7%</td>\n",
       "      <td>19.6%</td>\n",
       "      <td>21.4%</td>\n",
       "      <td>588.0</td>\n",
       "      <td>560.0</td>\n",
       "      <td>568.0</td>\n",
       "      <td>99.2%</td>\n",
       "    </tr>\n",
       "  </tbody>\n",
       "</table>\n",
       "<p>435 rows × 22 columns</p>\n",
       "</div>"
      ],
      "text/plain": [
       "    School ID                                        School Name    Borough  \\\n",
       "0      02M260                 Clinton School Writers and Artists  Manhattan   \n",
       "1      06M211  Inwood Early College for Health and Informatio...  Manhattan   \n",
       "2      01M539  New Explorations into Science, Technology and ...  Manhattan   \n",
       "3      02M294                               Essex Street Academy  Manhattan   \n",
       "4      02M308                       Lower Manhattan Arts Academy  Manhattan   \n",
       "..        ...                                                ...        ...   \n",
       "430    27Q302  Queens High School for Information, Research, ...     Queens   \n",
       "431    27Q324  Rockaway Park High School for Environmental Su...     Queens   \n",
       "432    27Q262                   Channel View School for Research     Queens   \n",
       "433    27Q351                    Rockaway Collegiate High School     Queens   \n",
       "434    27Q323                                  Scholars' Academy     Queens   \n",
       "\n",
       "    Building Code              Street Address           City State  Zip Code  \\\n",
       "0            M933        425 West 33rd Street      Manhattan    NY     10001   \n",
       "1            M052          650 Academy Street      Manhattan    NY     10002   \n",
       "2            M022         111 Columbia Street      Manhattan    NY     10002   \n",
       "3            M445            350 Grand Street      Manhattan    NY     10002   \n",
       "4            M445            350 Grand Street      Manhattan    NY     10002   \n",
       "..            ...                         ...            ...   ...       ...   \n",
       "430          Q465        8-21 Bay 25th Street   Far Rockaway    NY     11691   \n",
       "431          Q410  100-00 Beach Channel Drive  Rockaway Park    NY     11694   \n",
       "432          Q410  100-00 Beach Channel Drive  Rockaway Park    NY     11694   \n",
       "433          Q410  100-00 Beach Channel Drive  Rockaway Park    NY     11694   \n",
       "434          Q180      320 Beach 104th Street  Rockaway Park    NY     11694   \n",
       "\n",
       "     Latitude  Longitude  ... End Time Student Enrollment Percent White  \\\n",
       "0    40.75321  -73.99786  ...      NaN                NaN           NaN   \n",
       "1    40.86605  -73.92486  ...  3:00 PM               87.0          3.4%   \n",
       "2    40.71873  -73.97943  ...  4:00 PM             1735.0         28.6%   \n",
       "3    40.71687  -73.98953  ...  2:45 PM              358.0         11.7%   \n",
       "4    40.71687  -73.98953  ...  3:00 PM              383.0          3.1%   \n",
       "..        ...        ...  ...      ...                ...           ...   \n",
       "430  40.60199  -73.76283  ...  4:10 PM              381.0          2.1%   \n",
       "431  40.58601  -73.82309  ...  3:30 PM              368.0         14.7%   \n",
       "432  40.58601  -73.82309  ...  3:04 PM              683.0         10.7%   \n",
       "433  40.58601  -73.82309  ...  4:20 PM              397.0          3.8%   \n",
       "434  40.58413  -73.82568  ...  3:00 PM             1302.0         34.7%   \n",
       "\n",
       "     Percent Black Percent Hispanic Percent Asian Average Score (SAT Math)  \\\n",
       "0              NaN              NaN           NaN                      NaN   \n",
       "1            21.8%            67.8%          4.6%                      NaN   \n",
       "2            13.3%            18.0%         38.5%                    657.0   \n",
       "3            38.5%            41.3%          5.9%                    395.0   \n",
       "4            28.2%            56.9%          8.6%                    418.0   \n",
       "..             ...              ...           ...                      ...   \n",
       "430          49.1%            43.6%          4.2%                    372.0   \n",
       "431          46.7%            30.2%          3.5%                    357.0   \n",
       "432          53.2%            29.1%          6.0%                    427.0   \n",
       "433          52.6%            33.5%          5.0%                    399.0   \n",
       "434          22.7%            19.6%         21.4%                    588.0   \n",
       "\n",
       "    Average Score (SAT Reading)  Average Score (SAT Writing)  Percent Tested  \n",
       "0                           NaN                          NaN             NaN  \n",
       "1                           NaN                          NaN             NaN  \n",
       "2                         601.0                        601.0           91.0%  \n",
       "3                         411.0                        387.0           78.9%  \n",
       "4                         428.0                        415.0           65.1%  \n",
       "..                          ...                          ...             ...  \n",
       "430                       362.0                        352.0           44.6%  \n",
       "431                       381.0                        376.0           38.5%  \n",
       "432                       430.0                        423.0           76.6%  \n",
       "433                       403.0                        405.0           46.5%  \n",
       "434                       560.0                        568.0           99.2%  \n",
       "\n",
       "[435 rows x 22 columns]"
      ]
     },
     "execution_count": 198,
     "metadata": {},
     "output_type": "execute_result"
    }
   ],
   "source": [
    "# Store the file path in a variable\n",
    "path = \"../data/scores.csv\"\n",
    "# Read the .csv file and store it as a pandas Data Frame\n",
    "df = pd.read_csv(path)\n",
    "df"
   ]
  },
  {
   "cell_type": "code",
   "execution_count": 175,
   "id": "291a2238-9f55-4f3d-a30d-04c198797e93",
   "metadata": {},
   "outputs": [
    {
     "data": {
      "image/png": "[encoded data removed]",
      "text/plain": [
       "<Figure size 360x360 with 1 Axes>"
      ]
     },
     "metadata": {
      "needs_background": "light"
     },
     "output_type": "display_data"
    }
   ],
   "source": [
    "sns.lmplot(x='Average Score (SAT Writing)', y=\"Average Score (SAT Math)\", data=df)\n",
    "plt.show()"
   ]
  },
  {
   "cell_type": "code",
   "execution_count": 213,
   "id": "24b6d1a8-f1a0-481e-a068-dd43fb3d7534",
   "metadata": {},
   "outputs": [
    {
     "data": {
      "image/png": "[encoded data removed]",
      "text/plain": [
       "<Figure size 461.625x360 with 1 Axes>"
      ]
     },
     "metadata": {
      "needs_background": "light"
     },
     "output_type": "display_data"
    }
   ],
   "source": [
    "# Scatterplot arguments\n",
    "sns.lmplot(x='Average Score (SAT Writing)',\n",
    "           y=\"Average Score (SAT Math)\",\n",
    "           data=df,\n",
    "           fit_reg=False,\n",
    "           hue='Borough') # Color by Borough\n",
    "plt.show()"
   ]
  },
  {
   "cell_type": "code",
   "execution_count": 217,
   "id": "723586f4-2b08-4939-9317-0005edac583b",
   "metadata": {},
   "outputs": [
    {
     "data": {
      "image/png": "[encoded data removed]",
      "text/plain": [
       "<Figure size 432x288 with 1 Axes>"
      ]
     },
     "metadata": {
      "needs_background": "light"
     },
     "output_type": "display_data"
    }
   ],
   "source": [
    "sns.swarmplot(x=\"Borough\",\n",
    "              y=\"Average Score (SAT Math)\",\n",
    "              data=df.sample(frac=0.5))\n",
    "plt.show()"
   ]
  },
  {
   "cell_type": "code",
   "execution_count": 220,
   "id": "255299d1-9a8c-408d-8e94-7f880ccf2a37",
   "metadata": {},
   "outputs": [
    {
     "data": {
      "image/png": "[encoded data removed]",
      "text/plain": [
       "<Figure size 432x288 with 1 Axes>"
      ]
     },
     "metadata": {
      "needs_background": "light"
     },
     "output_type": "display_data"
    }
   ],
   "source": [
    "sns.boxplot(data=df.loc[:, [\"Average Score (SAT Math)\",\n",
    "                            \"Average Score (SAT Writing)\",\n",
    "                            \"Average Score (SAT Reading)\"]])\n",
    "plt.show()"
   ]
  },
  {
   "cell_type": "code",
   "execution_count": 225,
   "id": "42caa175-eaf8-48e3-b677-b226ec114ae6",
   "metadata": {},
   "outputs": [
    {
     "data": {
      "image/png": "[encoded data removed]",
      "text/plain": [
       "<Figure size 432x288 with 1 Axes>"
      ]
     },
     "metadata": {
      "needs_background": "light"
     },
     "output_type": "display_data"
    }
   ],
   "source": [
    "sns.boxplot(data=df.loc[df[\"Borough\"]==\"Queens\",\n",
    "                        [\"Average Score (SAT Math)\",\n",
    "                        \"Average Score (SAT Writing)\",\n",
    "                        \"Average Score (SAT Reading)\"]])\n",
    "plt.show()"
   ]
  },
  {
   "cell_type": "code",
   "execution_count": 238,
   "id": "ebc56691-eda2-450b-8c30-bfa154ac75b6",
   "metadata": {},
   "outputs": [
    {
     "data": {
      "image/png": "[encoded data removed]",
      "text/plain": [
       "<Figure size 360x360 with 1 Axes>"
      ]
     },
     "metadata": {
      "needs_background": "light"
     },
     "output_type": "display_data"
    }
   ],
   "source": [
    "# Distribution Plot (a.k.a. Histogram)\n",
    "sns.displot(df[\"Average Score (SAT Math)\"], kde=True)\n",
    "\n",
    "plt.show()"
   ]
  },
  {
   "cell_type": "code",
   "execution_count": 239,
   "id": "507e16c7-a096-43f8-aab7-8afdcc8caa6d",
   "metadata": {},
   "outputs": [
    {
     "data": {
      "image/png": "[encoded data removed]",
      "text/plain": [
       "<Figure size 432x288 with 1 Axes>"
      ]
     },
     "metadata": {
      "needs_background": "light"
     },
     "output_type": "display_data"
    }
   ],
   "source": [
    "# Count Plot (a.k.a. Bar Plot)\n",
    "sns.countplot(x='Borough', data=df)\n",
    " \n",
    "plt.xticks(rotation=-45)\n",
    "\n",
    "plt.show()"
   ]
  }
 ],
 "metadata": {
  "kernelspec": {
   "display_name": "Python 3 (ipykernel)",
   "language": "python",
   "name": "python3"
  },
  "language_info": {
   "codemirror_mode": {
    "name": "ipython",
    "version": 3
   },
   "file_extension": ".py",
   "mimetype": "text/x-python",
   "name": "python",
   "nbconvert_exporter": "python",
   "pygments_lexer": "ipython3",
   "version": "3.9.7"
  }
 },
 "nbformat": 4,
 "nbformat_minor": 5
}
