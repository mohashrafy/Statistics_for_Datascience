{
 "cells": [
  {
   "cell_type": "markdown",
   "id": "a4582fbc-e87b-498b-866e-1e16bf0e0a97",
   "metadata": {},
   "source": [
    "# Usefull Links:"
   ]
  },
  {
   "cell_type": "markdown",
   "id": "2c7ac217-e8cf-477a-95a6-1df9b0c598ba",
   "metadata": {},
   "source": [
    "* [Data Visualization app](https://markkurzejaumich.shinyapps.io/bivariate_analysis/)\n",
    "\n",
    "* [What's Going On in This Graph?](https://www.nytimes.com/column/whats-going-on-in-this-graph)\n",
    "\n",
    "* [Climate Change](https://www.nytimes.com/interactive/2018/05/03/learning/08WGOITGraphLN.html)\n",
    "\n",
    "* [Nutritional Perspectives](https://www.nytimes.com/2017/10/09/learning/whats-going-on-in-this-graph-oct-10-2017.html)\n",
    "* [Essay Publishing](https://www.nytimes.com/interactive/2018/02/08/learning/13WGOITGraphLN.html)\n",
    "* [extended visualization of which Disney princess contains the best qualities](https://www.dorkly.com/post/72753/which-fictional-princess-is-best)\n",
    "* [Mott’s Children’s Hospital](https://mottpoll.org/infographics)\n",
    "* [ranking of fruit by tastiness and difficulty of eating](https://xkcd.com/388/)\n",
    "* [How common your birthday is in the US](thedailyviz.com/2016/09/17/how-common-is-your-birthday-dailyviz/)\n",
    "* [How parents think about organ donation](https://mottpoll.org/infographics/2091)\n",
    "* [Infographic history](https://www.smithsonianmag.com/history/surprising-history-infographic-180959563/)\n",
    "* [The work of Edward Tufte](https://www.edwardtufte.com/tufte/)\n",
    "* [How to Be an Educated Consumer on Infographics: David Byrne on the Art-science of Visual Storytelling](https://www.brainpickings.org/index.php/2013/10/08/best-american-infographics-david-byrne/)\n",
    "* [How Statistics Lie](https://www.amazon.com/How-Lie-Statistics-Darrell-Huff/dp/0393310728)\n",
    "* [Storytelling with Data](http://www.storytellingwithdata.com/)"
   ]
  },
  {
   "cell_type": "code",
   "execution_count": null,
   "id": "e707a444-1125-41b1-a999-1dddfcc7a981",
   "metadata": {},
   "outputs": [],
   "source": []
  }
 ],
 "metadata": {
  "kernelspec": {
   "display_name": "Python 3 (ipykernel)",
   "language": "python",
   "name": "python3"
  },
  "language_info": {
   "codemirror_mode": {
    "name": "ipython",
    "version": 3
   },
   "file_extension": ".py",
   "mimetype": "text/x-python",
   "name": "python",
   "nbconvert_exporter": "python",
   "pygments_lexer": "ipython3",
   "version": "3.9.7"
  }
 },
 "nbformat": 4,
 "nbformat_minor": 5
}
