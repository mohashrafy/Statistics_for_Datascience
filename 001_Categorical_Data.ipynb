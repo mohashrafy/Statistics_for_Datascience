{
 "cells": [
  {
   "cell_type": "markdown",
   "id": "2d7f9d22-1a0a-40d0-bace-0337b9fd6d2b",
   "metadata": {},
   "source": [
    "# Categorical Data"
   ]
  },
  {
   "cell_type": "markdown",
   "id": "27b94cf6-92e6-499c-a96b-4d38cd1e500b",
   "metadata": {},
   "source": [
    "* In statistics, a categorical variable is a variable that can take on one of a limited, and usually fixed, number of possible values, assigning each individual or other unit of observation to a particular group or nominal category on the basis of some qualitative property.\n",
    "* Classifies individuals or items into different groups"
   ]
  },
  {
   "cell_type": "markdown",
   "id": "97a62c21-6a54-4bd0-9745-0a5fa50a9741",
   "metadata": {},
   "source": [
    "ID  | Education\n",
    "--- | ---\n",
    "82234| 1\n",
    "82232| 2\n",
    "82314| 2\n",
    "82132| 3\n",
    "82312 | 3\n",
    "82318| 4\n",
    "82319| 4\n",
    "82317| 4\n",
    "\n",
    "Education is coded such that:\n",
    "**1: High School, 2: College, 3: Bachelor, 4: Master and higher**"
   ]
  },
  {
   "cell_type": "markdown",
   "id": "0c827ddf-463a-440a-8d57-248b7956b7fc",
   "metadata": {
    "tags": []
   },
   "source": [
    "### The most common way to *summarize* categorical data is using a  **frequency table**, either with counts or percentages. "
   ]
  },
  {
   "cell_type": "markdown",
   "id": "332b9fbc-1007-42f2-a682-2e9175637d7b",
   "metadata": {},
   "source": [
    "Education | Count | Percent\n",
    "---|---|---\n",
    "High School | 1 | 12.5%\n",
    "College | 2 | 25%\n",
    "University Degree | 2 | 25%\n",
    "Master and higher | 3 | 37.5%\n",
    "Total | 8 | 100%"
   ]
  },
  {
   "cell_type": "code",
   "execution_count": 85,
   "id": "24839547-ca54-4315-b488-e94f8305e6b4",
   "metadata": {},
   "outputs": [
    {
     "data": {
      "text/html": [
       "<div>\n",
       "<style scoped>\n",
       "    .dataframe tbody tr th:only-of-type {\n",
       "        vertical-align: middle;\n",
       "    }\n",
       "\n",
       "    .dataframe tbody tr th {\n",
       "        vertical-align: top;\n",
       "    }\n",
       "\n",
       "    .dataframe thead th {\n",
       "        text-align: right;\n",
       "    }\n",
       "</style>\n",
       "<table border=\"1\" class=\"dataframe\">\n",
       "  <thead>\n",
       "    <tr style=\"text-align: right;\">\n",
       "      <th></th>\n",
       "      <th>ID</th>\n",
       "      <th>Education</th>\n",
       "    </tr>\n",
       "  </thead>\n",
       "  <tbody>\n",
       "    <tr>\n",
       "      <th>0</th>\n",
       "      <td>82234</td>\n",
       "      <td>High School</td>\n",
       "    </tr>\n",
       "    <tr>\n",
       "      <th>1</th>\n",
       "      <td>82232</td>\n",
       "      <td>College</td>\n",
       "    </tr>\n",
       "    <tr>\n",
       "      <th>2</th>\n",
       "      <td>82314</td>\n",
       "      <td>College</td>\n",
       "    </tr>\n",
       "    <tr>\n",
       "      <th>3</th>\n",
       "      <td>82132</td>\n",
       "      <td>Bachelor</td>\n",
       "    </tr>\n",
       "    <tr>\n",
       "      <th>4</th>\n",
       "      <td>82312</td>\n",
       "      <td>Bachelor</td>\n",
       "    </tr>\n",
       "    <tr>\n",
       "      <th>5</th>\n",
       "      <td>82318</td>\n",
       "      <td>Master and higher</td>\n",
       "    </tr>\n",
       "    <tr>\n",
       "      <th>6</th>\n",
       "      <td>82319</td>\n",
       "      <td>Master and higher</td>\n",
       "    </tr>\n",
       "    <tr>\n",
       "      <th>7</th>\n",
       "      <td>82317</td>\n",
       "      <td>Master and higher</td>\n",
       "    </tr>\n",
       "  </tbody>\n",
       "</table>\n",
       "</div>"
      ],
      "text/plain": [
       "      ID          Education\n",
       "0  82234        High School\n",
       "1  82232            College\n",
       "2  82314            College\n",
       "3  82132           Bachelor\n",
       "4  82312           Bachelor\n",
       "5  82318  Master and higher\n",
       "6  82319  Master and higher\n",
       "7  82317  Master and higher"
      ]
     },
     "execution_count": 85,
     "metadata": {},
     "output_type": "execute_result"
    }
   ],
   "source": [
    "# Importing necessary mdoules \n",
    "import pandas as pd\n",
    "import seaborn as sns\n",
    "# Create Data Frame from data\n",
    "df = pd.DataFrame(data={\n",
    "                'ID':\n",
    "                     [82234, 82232, 82314, 82132, 82312, 82318, 82319, 82317],\n",
    "                'Education':\n",
    "                     [\"High School\", \"College\", \"College\",\n",
    "                     \"Bachelor\", \"Bachelor\", \"Master and higher\",\n",
    "                      \"Master and higher\", \"Master and higher\"]})\n",
    "df"
   ]
  },
  {
   "cell_type": "code",
   "execution_count": 86,
   "id": "fafa187a-da55-49ce-b365-575cbacc785a",
   "metadata": {},
   "outputs": [
    {
     "data": {
      "text/html": [
       "<div>\n",
       "<style scoped>\n",
       "    .dataframe tbody tr th:only-of-type {\n",
       "        vertical-align: middle;\n",
       "    }\n",
       "\n",
       "    .dataframe tbody tr th {\n",
       "        vertical-align: top;\n",
       "    }\n",
       "\n",
       "    .dataframe thead th {\n",
       "        text-align: right;\n",
       "    }\n",
       "</style>\n",
       "<table border=\"1\" class=\"dataframe\">\n",
       "  <thead>\n",
       "    <tr style=\"text-align: right;\">\n",
       "      <th>col_0</th>\n",
       "      <th>count</th>\n",
       "      <th>percent</th>\n",
       "    </tr>\n",
       "    <tr>\n",
       "      <th>Education</th>\n",
       "      <th></th>\n",
       "      <th></th>\n",
       "    </tr>\n",
       "  </thead>\n",
       "  <tbody>\n",
       "    <tr>\n",
       "      <th>Bachelor</th>\n",
       "      <td>2</td>\n",
       "      <td>25.0</td>\n",
       "    </tr>\n",
       "    <tr>\n",
       "      <th>College</th>\n",
       "      <td>2</td>\n",
       "      <td>25.0</td>\n",
       "    </tr>\n",
       "    <tr>\n",
       "      <th>High School</th>\n",
       "      <td>1</td>\n",
       "      <td>12.5</td>\n",
       "    </tr>\n",
       "    <tr>\n",
       "      <th>Master and higher</th>\n",
       "      <td>3</td>\n",
       "      <td>37.5</td>\n",
       "    </tr>\n",
       "  </tbody>\n",
       "</table>\n",
       "</div>"
      ],
      "text/plain": [
       "col_0              count  percent\n",
       "Education                        \n",
       "Bachelor               2     25.0\n",
       "College                2     25.0\n",
       "High School            1     12.5\n",
       "Master and higher      3     37.5"
      ]
     },
     "execution_count": 86,
     "metadata": {},
     "output_type": "execute_result"
    }
   ],
   "source": [
    "# Creating Frequency Data Frame\n",
    "frequency = pd.crosstab(index=df[\"Education\"], columns=[\"count\"]) \n",
    "frequency[\"percent\"] = 100 * frequency[\"count\"]/sum(frequency[\"count\"])\n",
    "frequency"
   ]
  },
  {
   "cell_type": "code",
   "execution_count": 82,
   "id": "1a879f73-c317-4ae7-8aaa-ec4d0a697054",
   "metadata": {},
   "outputs": [
    {
     "data": {
      "text/plain": [
       "[Text(0, 0, '2'), Text(0, 0, '2'), Text(0, 0, '1'), Text(0, 0, '3')]"
      ]
     },
     "execution_count": 82,
     "metadata": {},
     "output_type": "execute_result"
    },
    {
     "data": {
      "image/png": "[encoded data removed]",
      "text/plain": [
       "<Figure size 432x288 with 1 Axes>"
      ]
     },
     "metadata": {
      "needs_background": "light"
     },
     "output_type": "display_data"
    }
   ],
   "source": [
    "# Draw Barpolt of our Categorical Data by Count\n",
    "barplot = sns.barplot(x=frequency.index, y=frequency[\"count\"])\n",
    "barplot.bar_label(barplot.containers[0])"
   ]
  },
  {
   "cell_type": "code",
   "execution_count": 87,
   "id": "21e0c515-b2b4-4b55-8a7d-c33e4fc2deee",
   "metadata": {},
   "outputs": [
    {
     "data": {
      "text/plain": [
       "[Text(0, 0, '25'), Text(0, 0, '25'), Text(0, 0, '12.5'), Text(0, 0, '37.5')]"
      ]
     },
     "execution_count": 87,
     "metadata": {},
     "output_type": "execute_result"
    },
    {
     "data": {
      "image/png": "[encoded data removed]",
      "text/plain": [
       "<Figure size 432x288 with 1 Axes>"
      ]
     },
     "metadata": {
      "needs_background": "light"
     },
     "output_type": "display_data"
    }
   ],
   "source": [
    "# Draw Barpolt of our Categorical Data by Percentage\n",
    "barplot = sns.barplot(x=frequency.index, y=frequency[\"percent\"])\n",
    "barplot.bar_label(barplot.containers[0])"
   ]
  },
  {
   "cell_type": "code",
   "execution_count": 89,
   "id": "40b57d69-b683-4216-953a-b07b090338bf",
   "metadata": {},
   "outputs": [
    {
     "data": {
      "text/plain": [
       "[Text(0, 0, '1'), Text(0, 0, '2'), Text(0, 0, '2'), Text(0, 0, '3')]"
      ]
     },
     "execution_count": 89,
     "metadata": {},
     "output_type": "execute_result"
    },
    {
     "data": {
      "image/png": "[encoded data removed]",
      "text/plain": [
       "<Figure size 432x288 with 1 Axes>"
      ]
     },
     "metadata": {
      "needs_background": "light"
     },
     "output_type": "display_data"
    }
   ],
   "source": [
    "# Sorting Data\n",
    "frequency.sort_values(\"count\", inplace=True)\n",
    "# Draw Barpolt of our Categorical Data by Count\n",
    "barplot = sns.barplot(x=frequency.index, y=frequency[\"count\"])\n",
    "barplot.bar_label(barplot.containers[0])"
   ]
  },
  {
   "cell_type": "markdown",
   "id": "bbd0f1d0-b034-48bb-a2ec-6d9fd42731f4",
   "metadata": {},
   "source": [
    "### Another option for graphs with categorical data is a pie chart\n",
    "We don't prefer pie charts as much as bar charts for a few reasons.\n",
    "\n",
    "* To begin, as you can see from the labeling, there is sometimes overlap for very, very small slices.As we can see with rejected and don't know, the labels overlap and making it difficult to understand.Depending on the application, this might be difficult to work around.\n",
    "\n",
    "* The other major problem with pie charts is that without adequate labeling, it's difficult to tell which piece of the pie is larger than others. "
   ]
  },
  {
   "cell_type": "code",
   "execution_count": 96,
   "id": "8c2f734d-826c-426c-b72f-2f5ac2a2c576",
   "metadata": {},
   "outputs": [
    {
     "data": {
      "image/png": "[encoded data removed]",
      "text/plain": [
       "<Figure size 432x288 with 1 Axes>"
      ]
     },
     "metadata": {},
     "output_type": "display_data"
    }
   ],
   "source": [
    "import matplotlib.pyplot as plt\n",
    "plt.pie(frequency[\"count\"], labels=frequency.index, autopct='%1.1f%%', shadow=True)\n",
    "plt.show()"
   ]
  }
 ],
 "metadata": {
  "kernelspec": {
   "display_name": "Python 3 (ipykernel)",
   "language": "python",
   "name": "python3"
  },
  "language_info": {
   "codemirror_mode": {
    "name": "ipython",
    "version": 3
   },
   "file_extension": ".py",
   "mimetype": "text/x-python",
   "name": "python",
   "nbconvert_exporter": "python",
   "pygments_lexer": "ipython3",
   "version": "3.9.7"
  }
 },
 "nbformat": 4,
 "nbformat_minor": 5
}
